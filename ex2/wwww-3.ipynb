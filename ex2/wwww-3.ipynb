{
 "cells": [
  {
   "cell_type": "code",
   "execution_count": 3,
   "metadata": {},
   "outputs": [],
   "source": [
    "from tokenizers import Tokenizer\n",
    "from tokenizers import trainers\n",
    "from tokenizers.normalizers import StripAccents, Lowercase, Sequence\n",
    "from tokenizers.pre_tokenizers import Whitespace\n",
    "from tokenizers.trainers import BpeTrainer, UnigramTrainer\n",
    "from tokenizers.models import BPE, Unigram\n",
    "\n",
    "from collections import Counter\n",
    "import numpy as np\n",
    "from sklearn.model_selection import train_test_split\n",
    "import tokenizers\n",
    "\n",
    "import re\n",
    "from hazm import *"
   ]
  },
  {
   "cell_type": "code",
   "execution_count": 1,
   "metadata": {},
   "outputs": [
    {
     "name": "stdout",
     "output_type": "stream",
     "text": [
      "Collecting tokenizers\n",
      "  Using cached tokenizers-0.21.0.tar.gz (343 kB)\n",
      "  Installing build dependencies ... \u001b[?25ldone\n",
      "\u001b[?25h  Getting requirements to build wheel ... \u001b[?25ldone\n",
      "\u001b[?25h  Preparing metadata (pyproject.toml) ... \u001b[?25ldone\n",
      "\u001b[?25hCollecting scikit-learn\n",
      "  Using cached scikit_learn-1.0.2-cp37-cp37m-manylinux_2_17_x86_64.manylinux2014_x86_64.whl.metadata (10 kB)\n",
      "Collecting huggingface-hub<1.0,>=0.16.4 (from tokenizers)\n",
      "  Using cached huggingface_hub-0.16.4-py3-none-any.whl.metadata (12 kB)\n",
      "Collecting numpy>=1.14.6 (from scikit-learn)\n",
      "  Using cached numpy-1.21.6-cp37-cp37m-manylinux_2_12_x86_64.manylinux2010_x86_64.whl.metadata (2.1 kB)\n",
      "Collecting scipy>=1.1.0 (from scikit-learn)\n",
      "  Using cached scipy-1.7.3-cp37-cp37m-manylinux_2_12_x86_64.manylinux2010_x86_64.whl.metadata (2.2 kB)\n",
      "Collecting joblib>=0.11 (from scikit-learn)\n",
      "  Using cached joblib-1.3.2-py3-none-any.whl.metadata (5.4 kB)\n",
      "Collecting threadpoolctl>=2.0.0 (from scikit-learn)\n",
      "  Using cached threadpoolctl-3.1.0-py3-none-any.whl.metadata (9.2 kB)\n",
      "Collecting filelock (from huggingface-hub<1.0,>=0.16.4->tokenizers)\n",
      "  Using cached filelock-3.12.2-py3-none-any.whl.metadata (2.7 kB)\n",
      "Collecting fsspec (from huggingface-hub<1.0,>=0.16.4->tokenizers)\n",
      "  Using cached fsspec-2023.1.0-py3-none-any.whl.metadata (5.5 kB)\n",
      "Requirement already satisfied: requests in /home/jopi-lima/anaconda3/envs/langdata1_0/lib/python3.7/site-packages (from huggingface-hub<1.0,>=0.16.4->tokenizers) (2.28.1)\n",
      "Collecting tqdm>=4.42.1 (from huggingface-hub<1.0,>=0.16.4->tokenizers)\n",
      "  Using cached tqdm-4.67.1-py3-none-any.whl.metadata (57 kB)\n",
      "Collecting pyyaml>=5.1 (from huggingface-hub<1.0,>=0.16.4->tokenizers)\n",
      "  Using cached PyYAML-6.0.1-cp37-cp37m-manylinux_2_17_x86_64.manylinux2014_x86_64.whl.metadata (2.1 kB)\n",
      "Requirement already satisfied: typing-extensions>=3.7.4.3 in /home/jopi-lima/anaconda3/envs/langdata1_0/lib/python3.7/site-packages (from huggingface-hub<1.0,>=0.16.4->tokenizers) (4.4.0)\n",
      "Requirement already satisfied: packaging>=20.9 in /home/jopi-lima/anaconda3/envs/langdata1_0/lib/python3.7/site-packages (from huggingface-hub<1.0,>=0.16.4->tokenizers) (22.0)\n",
      "Requirement already satisfied: importlib-metadata in /home/jopi-lima/anaconda3/envs/langdata1_0/lib/python3.7/site-packages (from huggingface-hub<1.0,>=0.16.4->tokenizers) (4.11.3)\n",
      "Requirement already satisfied: zipp>=0.5 in /home/jopi-lima/anaconda3/envs/langdata1_0/lib/python3.7/site-packages (from importlib-metadata->huggingface-hub<1.0,>=0.16.4->tokenizers) (3.11.0)\n",
      "Requirement already satisfied: charset-normalizer<3,>=2 in /home/jopi-lima/anaconda3/envs/langdata1_0/lib/python3.7/site-packages (from requests->huggingface-hub<1.0,>=0.16.4->tokenizers) (2.0.4)\n",
      "Requirement already satisfied: idna<4,>=2.5 in /home/jopi-lima/anaconda3/envs/langdata1_0/lib/python3.7/site-packages (from requests->huggingface-hub<1.0,>=0.16.4->tokenizers) (3.4)\n",
      "Requirement already satisfied: urllib3<1.27,>=1.21.1 in /home/jopi-lima/anaconda3/envs/langdata1_0/lib/python3.7/site-packages (from requests->huggingface-hub<1.0,>=0.16.4->tokenizers) (1.26.14)\n",
      "Requirement already satisfied: certifi>=2017.4.17 in /home/jopi-lima/anaconda3/envs/langdata1_0/lib/python3.7/site-packages (from requests->huggingface-hub<1.0,>=0.16.4->tokenizers) (2022.12.7)\n",
      "Using cached scikit_learn-1.0.2-cp37-cp37m-manylinux_2_17_x86_64.manylinux2014_x86_64.whl (24.8 MB)\n",
      "Using cached huggingface_hub-0.16.4-py3-none-any.whl (268 kB)\n",
      "Using cached joblib-1.3.2-py3-none-any.whl (302 kB)\n",
      "Using cached numpy-1.21.6-cp37-cp37m-manylinux_2_12_x86_64.manylinux2010_x86_64.whl (15.7 MB)\n",
      "Using cached scipy-1.7.3-cp37-cp37m-manylinux_2_12_x86_64.manylinux2010_x86_64.whl (38.1 MB)\n",
      "Using cached threadpoolctl-3.1.0-py3-none-any.whl (14 kB)\n",
      "Using cached PyYAML-6.0.1-cp37-cp37m-manylinux_2_17_x86_64.manylinux2014_x86_64.whl (670 kB)\n",
      "Using cached tqdm-4.67.1-py3-none-any.whl (78 kB)\n",
      "Using cached filelock-3.12.2-py3-none-any.whl (10 kB)\n",
      "Using cached fsspec-2023.1.0-py3-none-any.whl (143 kB)\n",
      "Building wheels for collected packages: tokenizers\n",
      "  Building wheel for tokenizers (pyproject.toml) ... \u001b[?25lerror\n",
      "  \u001b[1;31merror\u001b[0m: \u001b[1msubprocess-exited-with-error\u001b[0m\n",
      "  \n",
      "  \u001b[31m×\u001b[0m \u001b[32mBuilding wheel for tokenizers \u001b[0m\u001b[1;32m(\u001b[0m\u001b[32mpyproject.toml\u001b[0m\u001b[1;32m)\u001b[0m did not run successfully.\n",
      "  \u001b[31m│\u001b[0m exit code: \u001b[1;36m1\u001b[0m\n",
      "  \u001b[31m╰─>\u001b[0m \u001b[31m[115 lines of output]\u001b[0m\n",
      "  \u001b[31m   \u001b[0m Running `maturin pep517 build-wheel -i /home/jopi-lima/anaconda3/envs/langdata1_0/bin/python --compatibility off`\n",
      "  \u001b[31m   \u001b[0m 🍹 Building a mixed python/rust project\n",
      "  \u001b[31m   \u001b[0m 🔗 Found pyo3 bindings with abi3 support for Python ≥ 3.9\n",
      "  \u001b[31m   \u001b[0m 🐍 Not using a specific python interpreter\n",
      "  \u001b[31m   \u001b[0m 📡 Using build options features, bindings from pyproject.toml\n",
      "  \u001b[31m   \u001b[0m    Compiling proc-macro2 v1.0.92\n",
      "  \u001b[31m   \u001b[0m    Compiling unicode-ident v1.0.14\n",
      "  \u001b[31m   \u001b[0m    Compiling target-lexicon v0.12.16\n",
      "  \u001b[31m   \u001b[0m    Compiling autocfg v1.4.0\n",
      "  \u001b[31m   \u001b[0m    Compiling once_cell v1.20.2\n",
      "  \u001b[31m   \u001b[0m    Compiling libc v0.2.166\n",
      "  \u001b[31m   \u001b[0m    Compiling shlex v1.3.0\n",
      "  \u001b[31m   \u001b[0m    Compiling memchr v2.7.4\n",
      "  \u001b[31m   \u001b[0m    Compiling quote v1.0.37\n",
      "  \u001b[31m   \u001b[0m    Compiling syn v2.0.89\n",
      "  \u001b[31m   \u001b[0m    Compiling pyo3-build-config v0.22.6\n",
      "  \u001b[31m   \u001b[0m    Compiling cc v1.2.1\n",
      "  \u001b[31m   \u001b[0m    Compiling crossbeam-utils v0.8.20\n",
      "  \u001b[31m   \u001b[0m    Compiling num-traits v0.2.19\n",
      "  \u001b[31m   \u001b[0m    Compiling fnv v1.0.7\n",
      "  \u001b[31m   \u001b[0m    Compiling strsim v0.11.1\n",
      "  \u001b[31m   \u001b[0m    Compiling ident_case v1.0.1\n",
      "  \u001b[31m   \u001b[0m    Compiling cfg-if v1.0.0\n",
      "  \u001b[31m   \u001b[0m    Compiling serde v1.0.215\n",
      "  \u001b[31m   \u001b[0m    Compiling pyo3-ffi v0.22.6\n",
      "  \u001b[31m   \u001b[0m    Compiling crossbeam-epoch v0.9.18\n",
      "  \u001b[31m   \u001b[0m    Compiling pyo3-macros-backend v0.22.6\n",
      "  \u001b[31m   \u001b[0m    Compiling aho-corasick v1.1.3\n",
      "  \u001b[31m   \u001b[0m    Compiling matrixmultiply v0.3.9\n",
      "  \u001b[31m   \u001b[0m    Compiling byteorder v1.5.0\n",
      "  \u001b[31m   \u001b[0m    Compiling pkg-config v0.3.31\n",
      "  \u001b[31m   \u001b[0m    Compiling either v1.13.0\n",
      "  \u001b[31m   \u001b[0m    Compiling darling_core v0.20.10\n",
      "  \u001b[31m   \u001b[0m    Compiling regex-syntax v0.8.5\n",
      "  \u001b[31m   \u001b[0m    Compiling zerocopy-derive v0.7.35\n",
      "  \u001b[31m   \u001b[0m    Compiling darling_macro v0.20.10\n",
      "  \u001b[31m   \u001b[0m    Compiling serde_derive v1.0.215\n",
      "  \u001b[31m   \u001b[0m    Compiling rayon-core v1.12.1\n",
      "  \u001b[31m   \u001b[0m    Compiling darling v0.20.10\n",
      "  \u001b[31m   \u001b[0m    Compiling zerocopy v0.7.35\n",
      "  \u001b[31m   \u001b[0m    Compiling regex-automata v0.4.9\n",
      "  \u001b[31m   \u001b[0m    Compiling onig_sys v69.8.1\n",
      "  \u001b[31m   \u001b[0m    Compiling crossbeam-deque v0.8.5\n",
      "  \u001b[31m   \u001b[0m    Compiling getrandom v0.2.15\n",
      "  \u001b[31m   \u001b[0m    Compiling memoffset v0.9.1\n",
      "  \u001b[31m   \u001b[0m    Compiling portable-atomic v1.10.0\n",
      "  \u001b[31m   \u001b[0m    Compiling heck v0.5.0\n",
      "  \u001b[31m   \u001b[0m    Compiling paste v1.0.15\n",
      "  \u001b[31m   \u001b[0m    Compiling rawpointer v0.2.1\n",
      "  \u001b[31m   \u001b[0m    Compiling rand_core v0.6.4\n",
      "  \u001b[31m   \u001b[0m    Compiling regex v1.11.1\n",
      "  \u001b[31m   \u001b[0m    Compiling ppv-lite86 v0.2.20\n",
      "  \u001b[31m   \u001b[0m    Compiling derive_builder_core v0.20.2\n",
      "  \u001b[31m   \u001b[0m    Compiling num-integer v0.1.46\n",
      "  \u001b[31m   \u001b[0m    Compiling num-complex v0.4.6\n",
      "  \u001b[31m   \u001b[0m    Compiling esaxx-rs v0.1.10\n",
      "  \u001b[31m   \u001b[0m    Compiling pyo3 v0.22.6\n",
      "  \u001b[31m   \u001b[0m    Compiling serde_json v1.0.133\n",
      "  \u001b[31m   \u001b[0m    Compiling minimal-lexical v0.2.1\n",
      "  \u001b[31m   \u001b[0m    Compiling unicode-width v0.1.14\n",
      "  \u001b[31m   \u001b[0m    Compiling lazy_static v1.5.0\n",
      "  \u001b[31m   \u001b[0m    Compiling log v0.4.22\n",
      "  \u001b[31m   \u001b[0m    Compiling thiserror v1.0.69\n",
      "  \u001b[31m   \u001b[0m    Compiling utf8parse v0.2.2\n",
      "  \u001b[31m   \u001b[0m    Compiling console v0.15.8\n",
      "  \u001b[31m   \u001b[0m    Compiling anstyle-parse v0.2.6\n",
      "  \u001b[31m   \u001b[0m    Compiling nom v7.1.3\n",
      "  \u001b[31m   \u001b[0m The following warnings were emitted during compilation:\n",
      "  \u001b[31m   \u001b[0m \n",
      "  \u001b[31m   \u001b[0m warning: esaxx-rs@0.1.10: Compiler family detection failed due to error: ToolNotFound: Failed to find tool. Is `c++` installed?\n",
      "  \u001b[31m   \u001b[0m \n",
      "  \u001b[31m   \u001b[0m error: failed to run custom build command for `esaxx-rs v0.1.10`\n",
      "  \u001b[31m   \u001b[0m \n",
      "  \u001b[31m   \u001b[0m Caused by:\n",
      "  \u001b[31m   \u001b[0m   process didn't exit successfully: `/tmp/pip-install-q5dw6hfb/tokenizers_5ecb8d78838a4bacbcd1a2dedacbd170/bindings/python/target/release/build/esaxx-rs-5549439fffa0cf58/build-script-build` (exit status: 1)\n",
      "  \u001b[31m   \u001b[0m   --- stdout\n",
      "  \u001b[31m   \u001b[0m   OUT_DIR = Some(/tmp/pip-install-q5dw6hfb/tokenizers_5ecb8d78838a4bacbcd1a2dedacbd170/bindings/python/target/release/build/esaxx-rs-6fe350fd1088a943/out)\n",
      "  \u001b[31m   \u001b[0m   OPT_LEVEL = Some(3)\n",
      "  \u001b[31m   \u001b[0m   TARGET = Some(x86_64-unknown-linux-gnu)\n",
      "  \u001b[31m   \u001b[0m   HOST = Some(x86_64-unknown-linux-gnu)\n",
      "  \u001b[31m   \u001b[0m   cargo:rerun-if-env-changed=CXX_x86_64-unknown-linux-gnu\n",
      "  \u001b[31m   \u001b[0m   CXX_x86_64-unknown-linux-gnu = None\n",
      "  \u001b[31m   \u001b[0m   cargo:rerun-if-env-changed=CXX_x86_64_unknown_linux_gnu\n",
      "  \u001b[31m   \u001b[0m   CXX_x86_64_unknown_linux_gnu = None\n",
      "  \u001b[31m   \u001b[0m   cargo:rerun-if-env-changed=HOST_CXX\n",
      "  \u001b[31m   \u001b[0m   HOST_CXX = None\n",
      "  \u001b[31m   \u001b[0m   cargo:rerun-if-env-changed=CXX\n",
      "  \u001b[31m   \u001b[0m   CXX = None\n",
      "  \u001b[31m   \u001b[0m   cargo:rerun-if-env-changed=CC_ENABLE_DEBUG_OUTPUT\n",
      "  \u001b[31m   \u001b[0m   cargo:warning=Compiler family detection failed due to error: ToolNotFound: Failed to find tool. Is `c++` installed?\n",
      "  \u001b[31m   \u001b[0m   RUSTC_WRAPPER = None\n",
      "  \u001b[31m   \u001b[0m   cargo:rerun-if-env-changed=CRATE_CC_NO_DEFAULTS\n",
      "  \u001b[31m   \u001b[0m   CRATE_CC_NO_DEFAULTS = None\n",
      "  \u001b[31m   \u001b[0m   DEBUG = Some(false)\n",
      "  \u001b[31m   \u001b[0m   CARGO_CFG_TARGET_FEATURE = Some(fxsr,sse,sse2)\n",
      "  \u001b[31m   \u001b[0m   cargo:rerun-if-env-changed=CXXFLAGS_x86_64-unknown-linux-gnu\n",
      "  \u001b[31m   \u001b[0m   CXXFLAGS_x86_64-unknown-linux-gnu = None\n",
      "  \u001b[31m   \u001b[0m   cargo:rerun-if-env-changed=CXXFLAGS_x86_64_unknown_linux_gnu\n",
      "  \u001b[31m   \u001b[0m   CXXFLAGS_x86_64_unknown_linux_gnu = None\n",
      "  \u001b[31m   \u001b[0m   cargo:rerun-if-env-changed=HOST_CXXFLAGS\n",
      "  \u001b[31m   \u001b[0m   HOST_CXXFLAGS = None\n",
      "  \u001b[31m   \u001b[0m   cargo:rerun-if-env-changed=CXXFLAGS\n",
      "  \u001b[31m   \u001b[0m   CXXFLAGS = None\n",
      "  \u001b[31m   \u001b[0m \n",
      "  \u001b[31m   \u001b[0m   --- stderr\n",
      "  \u001b[31m   \u001b[0m \n",
      "  \u001b[31m   \u001b[0m \n",
      "  \u001b[31m   \u001b[0m   error occurred: Failed to find tool. Is `c++` installed?\n",
      "  \u001b[31m   \u001b[0m \n",
      "  \u001b[31m   \u001b[0m \n",
      "  \u001b[31m   \u001b[0m warning: build failed, waiting for other jobs to finish...\n",
      "  \u001b[31m   \u001b[0m 💥 maturin failed\n",
      "  \u001b[31m   \u001b[0m   Caused by: Failed to build a native library through cargo\n",
      "  \u001b[31m   \u001b[0m   Caused by: Cargo build finished with \"exit status: 101\": `env -u CARGO PYO3_ENVIRONMENT_SIGNATURE=\"cpython-3.7-64bit\" PYO3_PYTHON=\"/home/jopi-lima/anaconda3/envs/langdata1_0/bin/python\" PYTHON_SYS_EXECUTABLE=\"/home/jopi-lima/anaconda3/envs/langdata1_0/bin/python\" \"cargo\" \"rustc\" \"--features\" \"pyo3/extension-module\" \"--message-format\" \"json-render-diagnostics\" \"--manifest-path\" \"/tmp/pip-install-q5dw6hfb/tokenizers_5ecb8d78838a4bacbcd1a2dedacbd170/bindings/python/Cargo.toml\" \"--release\" \"--lib\"`\n",
      "  \u001b[31m   \u001b[0m Error: command ['maturin', 'pep517', 'build-wheel', '-i', '/home/jopi-lima/anaconda3/envs/langdata1_0/bin/python', '--compatibility', 'off'] returned non-zero exit status 1\n",
      "  \u001b[31m   \u001b[0m \u001b[31m[end of output]\u001b[0m\n",
      "  \n",
      "  \u001b[1;35mnote\u001b[0m: This error originates from a subprocess, and is likely not a problem with pip.\n",
      "\u001b[31m  ERROR: Failed building wheel for tokenizers\u001b[0m\u001b[31m\n",
      "\u001b[0m\u001b[?25hFailed to build tokenizers\n",
      "\u001b[31mERROR: Could not build wheels for tokenizers, which is required to install pyproject.toml-based projects\u001b[0m\u001b[31m\n",
      "\u001b[0m"
     ]
    }
   ],
   "source": [
    "! pip install tokenizers scikit-learn\n"
   ]
  },
  {
   "cell_type": "code",
   "execution_count": 2,
   "metadata": {},
   "outputs": [
    {
     "name": "stdout",
     "output_type": "stream",
     "text": [
      "Collecting hazm\n",
      "  Downloading hazm-0.10.0-py3-none-any.whl.metadata (11 kB)\n",
      "Collecting fasttext-wheel<0.10.0,>=0.9.2 (from hazm)\n",
      "  Downloading fasttext_wheel-0.9.2-cp39-cp39-manylinux_2_17_x86_64.manylinux2014_x86_64.whl.metadata (16 kB)\n",
      "Collecting flashtext<3.0,>=2.7 (from hazm)\n",
      "  Downloading flashtext-2.7.tar.gz (14 kB)\n",
      "  Preparing metadata (setup.py) ... \u001b[?25ldone\n",
      "\u001b[?25hCollecting gensim<5.0.0,>=4.3.1 (from hazm)\n",
      "  Downloading gensim-4.3.3-cp39-cp39-manylinux_2_17_x86_64.manylinux2014_x86_64.whl.metadata (8.3 kB)\n",
      "Collecting nltk<4.0.0,>=3.8.1 (from hazm)\n",
      "  Downloading nltk-3.9.1-py3-none-any.whl.metadata (2.9 kB)\n",
      "Collecting numpy==1.24.3 (from hazm)\n",
      "  Downloading numpy-1.24.3-cp39-cp39-manylinux_2_17_x86_64.manylinux2014_x86_64.whl.metadata (5.6 kB)\n",
      "Collecting python-crfsuite<0.10.0,>=0.9.9 (from hazm)\n",
      "  Downloading python_crfsuite-0.9.11-cp39-cp39-manylinux_2_17_x86_64.manylinux2014_x86_64.whl.metadata (4.3 kB)\n",
      "Requirement already satisfied: scikit-learn<2.0.0,>=1.2.2 in /home/jopi-lima/anaconda3/envs/lang3_9/lib/python3.9/site-packages (from hazm) (1.5.2)\n",
      "Collecting pybind11>=2.2 (from fasttext-wheel<0.10.0,>=0.9.2->hazm)\n",
      "  Downloading pybind11-2.13.6-py3-none-any.whl.metadata (9.5 kB)\n",
      "Requirement already satisfied: setuptools>=0.7.0 in /home/jopi-lima/anaconda3/envs/lang3_9/lib/python3.9/site-packages (from fasttext-wheel<0.10.0,>=0.9.2->hazm) (75.1.0)\n",
      "Requirement already satisfied: scipy<1.14.0,>=1.7.0 in /home/jopi-lima/anaconda3/envs/lang3_9/lib/python3.9/site-packages (from gensim<5.0.0,>=4.3.1->hazm) (1.13.1)\n",
      "Collecting smart-open>=1.8.1 (from gensim<5.0.0,>=4.3.1->hazm)\n",
      "  Downloading smart_open-7.0.5-py3-none-any.whl.metadata (24 kB)\n",
      "Collecting click (from nltk<4.0.0,>=3.8.1->hazm)\n",
      "  Downloading click-8.1.7-py3-none-any.whl.metadata (3.0 kB)\n",
      "Requirement already satisfied: joblib in /home/jopi-lima/anaconda3/envs/lang3_9/lib/python3.9/site-packages (from nltk<4.0.0,>=3.8.1->hazm) (1.4.2)\n",
      "Requirement already satisfied: regex>=2021.8.3 in /home/jopi-lima/anaconda3/envs/lang3_9/lib/python3.9/site-packages (from nltk<4.0.0,>=3.8.1->hazm) (2024.11.6)\n",
      "Requirement already satisfied: tqdm in /home/jopi-lima/anaconda3/envs/lang3_9/lib/python3.9/site-packages (from nltk<4.0.0,>=3.8.1->hazm) (4.67.1)\n",
      "Requirement already satisfied: threadpoolctl>=3.1.0 in /home/jopi-lima/anaconda3/envs/lang3_9/lib/python3.9/site-packages (from scikit-learn<2.0.0,>=1.2.2->hazm) (3.5.0)\n",
      "Collecting wrapt (from smart-open>=1.8.1->gensim<5.0.0,>=4.3.1->hazm)\n",
      "  Downloading wrapt-1.17.0-cp39-cp39-manylinux_2_5_x86_64.manylinux1_x86_64.manylinux_2_17_x86_64.manylinux2014_x86_64.whl.metadata (6.4 kB)\n",
      "Downloading hazm-0.10.0-py3-none-any.whl (892 kB)\n",
      "\u001b[2K   \u001b[38;2;114;156;31m━━━━━━━━━━━━━━━━━━━━━━━━━━━━━━━━━━━━━━━━\u001b[0m \u001b[32m892.6/892.6 kB\u001b[0m \u001b[31m8.7 MB/s\u001b[0m eta \u001b[36m0:00:00\u001b[0m\n",
      "\u001b[?25hDownloading numpy-1.24.3-cp39-cp39-manylinux_2_17_x86_64.manylinux2014_x86_64.whl (17.3 MB)\n",
      "\u001b[2K   \u001b[38;2;114;156;31m━━━━━━━━━━━━━━━━━━━━━━━━━━━━━━━━━━━━━━━━\u001b[0m \u001b[32m17.3/17.3 MB\u001b[0m \u001b[31m24.1 MB/s\u001b[0m eta \u001b[36m0:00:00\u001b[0m MB/s\u001b[0m eta \u001b[36m0:00:01\u001b[0m01\u001b[0m\n",
      "\u001b[?25hDownloading fasttext_wheel-0.9.2-cp39-cp39-manylinux_2_17_x86_64.manylinux2014_x86_64.whl (4.4 MB)\n",
      "\u001b[2K   \u001b[38;2;114;156;31m━━━━━━━━━━━━━━━━━━━━━━━━━━━━━━━━━━━━━━━━\u001b[0m \u001b[32m4.4/4.4 MB\u001b[0m \u001b[31m24.6 MB/s\u001b[0m eta \u001b[36m0:00:00\u001b[0m\n",
      "\u001b[?25hDownloading gensim-4.3.3-cp39-cp39-manylinux_2_17_x86_64.manylinux2014_x86_64.whl (26.6 MB)\n",
      "\u001b[2K   \u001b[38;2;114;156;31m━━━━━━━━━━━━━━━━━━━━━━━━━━━━━━━━━━━━━━━━\u001b[0m \u001b[32m26.6/26.6 MB\u001b[0m \u001b[31m27.2 MB/s\u001b[0m eta \u001b[36m0:00:00\u001b[0m31m31.0 MB/s\u001b[0m eta \u001b[36m0:00:01\u001b[0m\n",
      "\u001b[?25hDownloading nltk-3.9.1-py3-none-any.whl (1.5 MB)\n",
      "\u001b[2K   \u001b[38;2;114;156;31m━━━━━━━━━━━━━━━━━━━━━━━━━━━━━━━━━━━━━━━━\u001b[0m \u001b[32m1.5/1.5 MB\u001b[0m \u001b[31m18.0 MB/s\u001b[0m eta \u001b[36m0:00:00\u001b[0m\n",
      "\u001b[?25hDownloading python_crfsuite-0.9.11-cp39-cp39-manylinux_2_17_x86_64.manylinux2014_x86_64.whl (1.2 MB)\n",
      "\u001b[2K   \u001b[38;2;114;156;31m━━━━━━━━━━━━━━━━━━━━━━━━━━━━━━━━━━━━━━━━\u001b[0m \u001b[32m1.2/1.2 MB\u001b[0m \u001b[31m17.8 MB/s\u001b[0m eta \u001b[36m0:00:00\u001b[0m\n",
      "\u001b[?25hDownloading pybind11-2.13.6-py3-none-any.whl (243 kB)\n",
      "Downloading smart_open-7.0.5-py3-none-any.whl (61 kB)\n",
      "Downloading click-8.1.7-py3-none-any.whl (97 kB)\n",
      "Downloading wrapt-1.17.0-cp39-cp39-manylinux_2_5_x86_64.manylinux1_x86_64.manylinux_2_17_x86_64.manylinux2014_x86_64.whl (82 kB)\n",
      "Building wheels for collected packages: flashtext\n",
      "  Building wheel for flashtext (setup.py) ... \u001b[?25ldone\n",
      "\u001b[?25h  Created wheel for flashtext: filename=flashtext-2.7-py2.py3-none-any.whl size=9298 sha256=2cc5842076959ce0cacfd47535b689f4c2b4498b5e182847dfaf1561371524ed\n",
      "  Stored in directory: /home/jopi-lima/.cache/pip/wheels/65/3c/c7/44672c5062c16d05760b1eaddbf611d2f6a4b715c6d6777418\n",
      "Successfully built flashtext\n",
      "Installing collected packages: flashtext, wrapt, python-crfsuite, pybind11, numpy, click, smart-open, nltk, fasttext-wheel, gensim, hazm\n",
      "  Attempting uninstall: numpy\n",
      "    Found existing installation: numpy 1.26.4\n",
      "    Uninstalling numpy-1.26.4:\n",
      "      Successfully uninstalled numpy-1.26.4\n",
      "  Attempting uninstall: nltk\n",
      "    Found existing installation: nltk 3.4\n",
      "    Uninstalling nltk-3.4:\n",
      "      Successfully uninstalled nltk-3.4\n",
      "Successfully installed click-8.1.7 fasttext-wheel-0.9.2 flashtext-2.7 gensim-4.3.3 hazm-0.10.0 nltk-3.9.1 numpy-1.24.3 pybind11-2.13.6 python-crfsuite-0.9.11 smart-open-7.0.5 wrapt-1.17.0\n"
     ]
    }
   ],
   "source": [
    "! pip install hazm\n"
   ]
  },
  {
   "cell_type": "code",
   "execution_count": 3,
   "metadata": {
    "colab": {
     "base_uri": "https://localhost:8080/",
     "height": 1000
    },
    "id": "38b79b0ef1bfbf9d",
    "outputId": "2e023c70-5f5e-4fe1-efdd-8b15e7993723",
    "scrolled": true
   },
   "outputs": [
    {
     "name": "stdout",
     "output_type": "stream",
     "text": [
      "Collecting tokenizers\n",
      "  Using cached tokenizers-0.21.0.tar.gz (343 kB)\n",
      "  Installing build dependencies ... \u001b[?25ldone\n",
      "\u001b[?25h  Getting requirements to build wheel ... \u001b[?25ldone\n",
      "\u001b[?25h  Preparing metadata (pyproject.toml) ... \u001b[?25lerror\n",
      "  \u001b[1;31merror\u001b[0m: \u001b[1msubprocess-exited-with-error\u001b[0m\n",
      "  \n",
      "  \u001b[31m×\u001b[0m \u001b[32mPreparing metadata \u001b[0m\u001b[1;32m(\u001b[0m\u001b[32mpyproject.toml\u001b[0m\u001b[1;32m)\u001b[0m did not run successfully.\n",
      "  \u001b[31m│\u001b[0m exit code: \u001b[1;36m1\u001b[0m\n",
      "  \u001b[31m╰─>\u001b[0m \u001b[31m[6 lines of output]\u001b[0m\n",
      "  \u001b[31m   \u001b[0m \n",
      "  \u001b[31m   \u001b[0m Cargo, the Rust package manager, is not installed or is not on PATH.\n",
      "  \u001b[31m   \u001b[0m This package requires Rust and Cargo to compile extensions. Install it through\n",
      "  \u001b[31m   \u001b[0m the system's package manager or via https://rustup.rs/\n",
      "  \u001b[31m   \u001b[0m \n",
      "  \u001b[31m   \u001b[0m Checking for Rust toolchain....\n",
      "  \u001b[31m   \u001b[0m \u001b[31m[end of output]\u001b[0m\n",
      "  \n",
      "  \u001b[1;35mnote\u001b[0m: This error originates from a subprocess, and is likely not a problem with pip.\n",
      "\u001b[1;31merror\u001b[0m: \u001b[1mmetadata-generation-failed\u001b[0m\n",
      "\n",
      "\u001b[31m×\u001b[0m Encountered error while generating package metadata.\n",
      "\u001b[31m╰─>\u001b[0m See above for output.\n",
      "\n",
      "\u001b[1;35mnote\u001b[0m: This is an issue with the package mentioned above, not pip.\n",
      "\u001b[1;36mhint\u001b[0m: See above for details.\n",
      "\u001b[?25hRequirement already satisfied: hazm in /home/jopi-lima/anaconda3/envs/langdata1_0/lib/python3.7/site-packages (0.7.0)\n",
      "Requirement already satisfied: nltk==3.3 in /home/jopi-lima/anaconda3/envs/langdata1_0/lib/python3.7/site-packages (from hazm) (3.3)\n",
      "Requirement already satisfied: libwapiti>=0.2.1 in /home/jopi-lima/anaconda3/envs/langdata1_0/lib/python3.7/site-packages (from hazm) (0.2.1)\n",
      "Requirement already satisfied: six in /home/jopi-lima/anaconda3/envs/langdata1_0/lib/python3.7/site-packages (from nltk==3.3->hazm) (1.16.0)\n"
     ]
    }
   ],
   "source": [
    "! pip install tokenizers scikit-learn\n",
    "! pip install hazm\n",
    "\n"
   ]
  },
  {
   "cell_type": "code",
   "execution_count": 7,
   "metadata": {
    "colab": {
     "base_uri": "https://localhost:8080/"
    },
    "id": "aE3fQ2So-IS_",
    "outputId": "83379106-4ce0-4d95-9fc0-d186003fd1d8"
   },
   "outputs": [
    {
     "name": "stdout",
     "output_type": "stream",
     "text": [
      "--2024-12-05 11:29:46--  https://downloads.wortschatz-leipzig.de/corpora/fas_news_2020_100K.tar.gz\n",
      "Resolving downloads.wortschatz-leipzig.de (downloads.wortschatz-leipzig.de)... 139.18.2.68\n",
      "Connecting to downloads.wortschatz-leipzig.de (downloads.wortschatz-leipzig.de)|139.18.2.68|:443... connected.\n",
      "HTTP request sent, awaiting response... 200 OK\n",
      "Length: 31227186 (30M) [application/x-gzip]\n",
      "Saving to: ‘fas_news_2020_100K.tar.gz.1’\n",
      "\n",
      "fas_news_2020_100K. 100%[===================>]  29,78M  21,6MB/s    in 1,4s    \n",
      "\n",
      "2024-12-05 11:29:47 (21,6 MB/s) - ‘fas_news_2020_100K.tar.gz.1’ saved [31227186/31227186]\n",
      "\n",
      "fas_news_2020_100K/\n",
      "fas_news_2020_100K/fas_news_2020_100K-inv_w.txt\n",
      "fas_news_2020_100K/fas_news_2020_100K-sources.txt\n",
      "fas_news_2020_100K/fas_news_2020_100K-co_n.txt\n",
      "fas_news_2020_100K/fas_news_2020_100K-import.sql\n",
      "fas_news_2020_100K/fas_news_2020_100K-sentences.txt\n",
      "fas_news_2020_100K/fas_news_2020_100K-co_s.txt\n",
      "fas_news_2020_100K/fas_news_2020_100K-words.txt\n",
      "fas_news_2020_100K/fas_news_2020_100K-inv_so.txt\n"
     ]
    }
   ],
   "source": [
    "!wget https://downloads.wortschatz-leipzig.de/corpora/fas_news_2020_100K.tar.gz\n",
    "!tar --gunzip --extract --verbose --file=fas_news_2020_100K.tar.gz\n",
    "persian_text_path = \"content/fas_news_2020_100K/fas_news_2020_100K-sentences.txt\""
   ]
  },
  {
   "cell_type": "code",
   "execution_count": 8,
   "metadata": {
    "colab": {
     "base_uri": "https://localhost:8080/"
    },
    "id": "gvnUdAaWTK6E",
    "outputId": "b3f43067-e4d4-4613-9da6-a1f2ee974a9b"
   },
   "outputs": [
    {
     "name": "stdout",
     "output_type": "stream",
     "text": [
      "Training Data Example: ['گفتم', 'نه', 'حاجی', 'شما', 'هم', 'بروید', 'دیگر', 'کسی', 'نیست']\n",
      "Validation Data Example: ['در', 'این', 'خصوص', 'مدیرکل', 'دفتر', 'پیشگیری', 'از', 'قاچاق', 'کالا', 'و', 'ارز', 'در', 'واکنش', 'به', 'اعلام', 'مار', 'قاچاق', 'سیگار', 'در', 'کشور', 'توسط', 'برخی', 'دستگاه', 'ها', 'گفت', 'اعلام', 'رسمی', 'مار', 'قاچاق', 'سیگار', 'در', 'کشور', 'بر', 'عهده', 'ستاد', 'مبارزه', 'با', 'قاچاق', 'کالا', 'و', 'ارز', 'است']\n",
      "Test Data Example: ['نشان', 'به', 'ن', 'نشان', 'که', 'در', 'حدود', 'کمتر', 'از', 'سال', 'خدمتش', 'همه', 'کیفها', 'پولها', 'چکهای', 'حامل', 'و', 'گوشیهای', 'همراهی', 'که', 'پیدا', 'کرده', 'با', 'پیجویی', 'تمام', 'به', 'صاحبانش', 'برگردانده', 'است']\n"
     ]
    }
   ],
   "source": [
    "# Punctuations and Separators\n",
    "punc = '''()-[]{};،:'\"\\\\, <>./?@#$%^&*_~.'''\n",
    "seperator = ['\\xad', '\\u200e', '\\u200f', '\\u200d', '\\u200c', '\\n']\n",
    "\n",
    "# Hazm Normalizer and Stemmer\n",
    "hazm_normalizer = Normalizer()\n",
    "hazm_stemmer = Stemmer()\n",
    "\n",
    "# Read corpus\n",
    "with open(persian_text_path, \"r\") as f:\n",
    "    sentences = f.readlines()\n",
    "\n",
    "def preprocess_text_with_hazm(text):\n",
    "    # Normalize using Hazm e.g. اصلاح نويسه ها -> اصلاح نویسه‌ها\n",
    "    text = hazm_normalizer.normalize(text)\n",
    "\n",
    "    # Remove unwanted separators\n",
    "    for sep in seperator:\n",
    "        text = text.replace(sep, \" \")\n",
    "\n",
    "    # Remove all punctuation\n",
    "    text = re.sub(r'[^ا-ی0-9\\s]+', '', text)\n",
    "\n",
    "    # Tokenize using Hazm for more accurate Persian tokenization\n",
    "    tokens = word_tokenize(text)\n",
    "\n",
    "    # Add <s> and </s> tags to the sentence\n",
    "    # tokens = ['<s>'] + tokens + ['</s>']\n",
    "\n",
    "    # Stemming using hazm e.g  کتاب‌ها -> کتاب‌\n",
    "    # tokens = [hazm_stemmer.stem(token) for token in tokens]\n",
    "\n",
    "    return tokens\n",
    "\n",
    "# Preprocess all sentences\n",
    "cleaned_sentences = [preprocess_text_with_hazm(sentence) for sentence in sentences]\n",
    "\n",
    "# Split into training, validation, and testing datasets (80%, 10%, 10%)\n",
    "train_corpus, temp_corpus = train_test_split(cleaned_sentences, test_size=0.2, random_state=42)\n",
    "val_corpus, test_corpus = train_test_split(temp_corpus, test_size=0.5, random_state=42)\n",
    "\n",
    "# Example\n",
    "print(\"Training Data Example:\", train_corpus[0])\n",
    "print(\"Validation Data Example:\", val_corpus[0])\n",
    "print(\"Test Data Example:\", test_corpus[0])"
   ]
  },
  {
   "cell_type": "code",
   "execution_count": 9,
   "metadata": {
    "colab": {
     "base_uri": "https://localhost:8080/"
    },
    "id": "Jr4q052A4ITv",
    "outputId": "d2e67b97-320b-47a8-c7dc-ec568e7ecdb8"
   },
   "outputs": [
    {
     "name": "stdout",
     "output_type": "stream",
     "text": [
      "\n",
      "Most common 3-grams:\n",
      "('گزارش', 'همشهری', 'نلاین'): 1115\n",
      "('همشهری', 'نلاین', 'نقل'): 770\n",
      "('وی', 'ادامه', 'داد'): 510\n",
      "('دانشگاه', 'علوم', 'پزشکی'): 397\n",
      "('مجلس', 'شورای', 'اسلامی'): 384\n",
      "('جمهوری', 'اسلامی', 'ایران'): 284\n",
      "('شیوع', 'ویروس', 'کرونا'): 271\n",
      "('میلیون', 'هزار', 'تومان'): 214\n",
      "('جان', 'خود', 'دست'): 172\n",
      "('خبر', 'داد', 'گفت'): 165\n"
     ]
    }
   ],
   "source": [
    "from nltk import ngrams\n",
    "from collections import Counter\n",
    "\n",
    "def ngram_counts(corpus, n, i):\n",
    "    ngram_list = []\n",
    "\n",
    "    stopwords = ['به', 'از', 'را', 'و', 'برای', 'این', 'که', 'با', 'در', 'چون', 'اگر', 'ها', 'نه', 'اینکه', 'یا', 'هم', 'تا', 'که', 'آن', 'باید', 'شده', 'چرا', 'همچنین', 'کردن', 'شد', 'می']\n",
    "    filtered_corpus = [\n",
    "        [word for word in sentence if word not in stopwords]\n",
    "        for sentence in corpus\n",
    "    ]\n",
    "\n",
    "    for sentence in filtered_corpus:\n",
    "        sentence_ngrams = list(ngrams(sentence, n))\n",
    "        ngram_list.extend(sentence_ngrams)\n",
    "\n",
    "    ngram_counts = Counter(ngram_list)\n",
    "\n",
    "    most_common_ngrams = ngram_counts.most_common(i)\n",
    "\n",
    "    print(f\"\\nMost common {n}-grams:\")\n",
    "    for ngram, count in most_common_ngrams:\n",
    "        print(f\"{ngram}: {count}\")\n",
    "\n",
    "ngram_counts(train_corpus, 3, 10)"
   ]
  },
  {
   "cell_type": "code",
   "execution_count": 10,
   "metadata": {
    "colab": {
     "base_uri": "https://localhost:8080/"
    },
    "id": "m9mPF67jEkJa",
    "outputId": "08aa22bc-6973-41e7-cc9f-e027bb0f1f42"
   },
   "outputs": [
    {
     "name": "stdout",
     "output_type": "stream",
     "text": [
      "\n",
      "Most common 2-grams:\n",
      "('ادامه', 'داد'): 1317\n",
      "('همشهری', 'نلاین'): 1180\n",
      "('ویروس', 'کرونا'): 1177\n",
      "('گزارش', 'همشهری'): 1131\n",
      "('بر', 'اساس'): 1075\n",
      "('اعلام', 'کرد'): 969\n",
      "('وی', 'افزود'): 955\n",
      "('خبر', 'داد'): 930\n",
      "('وجود', 'دارد'): 836\n",
      "('تصریح', 'کرد'): 779\n",
      "('نلاین', 'نقل'): 771\n",
      "('هزار', 'نفر'): 690\n",
      "('ممکن', 'است'): 675\n",
      "('تاکید', 'کرد'): 670\n",
      "('بیان', 'کرد'): 666\n",
      "('نشان', 'دهد'): 648\n",
      "('وی', 'ادامه'): 642\n",
      "('هزار', 'تومان'): 628\n",
      "('اظهار', 'کرد'): 620\n",
      "('حال', 'حاضر'): 548\n"
     ]
    }
   ],
   "source": [
    "ngram_counts(train_corpus, 2, 20)"
   ]
  },
  {
   "cell_type": "code",
   "execution_count": 11,
   "metadata": {
    "colab": {
     "base_uri": "https://localhost:8080/"
    },
    "id": "g9B0jRrp49Ex",
    "outputId": "bbf32ba4-992b-45bb-e642-577350c2ec33"
   },
   "outputs": [
    {
     "name": "stdout",
     "output_type": "stream",
     "text": [
      "PADDING:\n",
      "['<s>', '<s>', 'گفتم', 'نه', 'حاجی', 'شما', 'هم', 'بروید', 'دیگر', 'کسی', 'نیست', '</s>', '</s>', '<s>', '<s>', 'در', 'این', 'غربال', 'گری', 'ها', 'کیس', 'های', 'مشکوکی', 'با', 'علامت', 'تب', 'داشتیم', 'که', 'خدا', 'را', 'شکر', 'ورزشکاری', 'نبود', 'که', 'با', 'کرونا', 'درگیر', 'باشد', 'اما', 'در', 'بین', 'همکاران', 'بودند', 'کسانی', 'که', 'مبتلا', 'شدند', '</s>', '</s>', '<s>', '<s>', 'حضرت', 'رسول', 'در', 'حلقه', 'اصحاب', 'نشسته_بودند', '</s>', '</s>', '<s>', '<s>', 'این', 'اتفاق', 'باعث', 'شد', 'تا', 'نقش', 'ایالات', 'متحده', 'به', 'عنوان', 'جایگزین', 'طالبان', 'در', 'افغانستان', 'حذف', 'و', 'جای', 'ن', 'را', 'دولتی', 'بگیرد', 'که', 'بومی', 'و', 'از', 'میان', 'سیاستمداران', 'افغان', 'انتخاب', 'شده_است', '</s>', '</s>', '<s>', '<s>', 'وی', 'اضافه', 'کرد', 'همه', 'بخشهای', 'سازمان', 'در', 'مقابله', 'با', 'کرونا', 'و', 'حفظ', 'رامش', 'مردم', 'از', 'هیچ', 'چیز', 'دریغ', 'نمی', 'کنند', 'و', 'تلاش', 'دارند', 'تا', 'خرین', 'لحظه', 'کار', 'کنند', 'و', 'حتی', 'از', 'جان', 'خود', 'هم', 'می', 'گذرند', '</s>', '</s>', '<s>', '<s>', 'در', 'روایات', 'ما', 'به', 'طور', 'مکرر', 'از', 'دو', 'غیبت', 'ن', 'حضرت', 'سخن', 'به', 'میان', 'مده', 'و', 'از', 'سالها', 'پیش', 'از', 'تولد', 'امام', 'مهدی', 'ع', 'بر', 'این', 'موضوع', 'تصریح', 'شده_است', 'که', 'حضرتش', 'دو', 'غیبت', 'خواهند_داشت', 'که', 'هر', 'یک', 'با', 'دیگری', 'متفاوت', 'است', '</s>', '</s>', '<s>', '<s>', 'نکته', 'مهم', 'این', 'است', 'که', 'نباید', 'انتظار', 'کار', 'ویژهای', 'را', 'در', 'مدت', 'کوتاه', 'داشت', 'اما', 'این', 'ریلگذاری', 'ما', 'را', 'به', 'نقطه', 'خوبی', 'خواهد_رساند', '</s>', '</s>', '<s>', '<s>', 'ارتفاع', 'پست', 'ابراهیم', 'حاتمیکیا', 'هم', 'پسزمینه', 'جنگ', 'دارد', 'و', 'پیامدهای', 'جنگ', 'را', 'بر', 'زندگی', 'مردم', 'خوزستان', 'روایت', 'می', 'کند', 'و', 'سرانجام', 'بمب', 'یک', 'عاشقانه', 'پیمان', 'معادی', 'که', 'داستان', 'ن', 'در', 'دوران', 'موشکباران', 'شهرها', 'روایت', 'می', 'شود', '</s>', '</s>', '<s>', '<s>', 'وی', 'ادامه', 'داد', 'این', 'مسیر', 'به', 'علت', 'پایین', 'مدن', 'چند', 'قطعه', 'سنگ', 'بزرگ', 'بر', 'اثر', 'برخورد', 'صاعقه', 'با', 'کوه', 'مسدود', 'شده_است', 'و', 'در', 'سایه', 'تلاش', 'راهدارای', 'و', 'جابهجایی', 'سنگهای', 'کوچک', 'این', 'راه', 'روستایی', 'به', 'صورت', 'موقت', 'و', 'کنارگذر', 'بازگشایی', 'شده_است', '</s>', '</s>', '<s>', '<s>', 'اساسا', 'حمایت', 'از', 'بخش', 'کشاورزی', 'و', 'غذا', 'به', 'لحاظ', 'مبانی', 'توریک', 'اجتناب', 'ناپذیر', 'است', '</s>', '</s>']\n",
      "\n",
      "\n",
      "NGRAMS:\n",
      "[('<s>',), ('<s>', '<s>'), ('<s>', '<s>', 'گفتم'), ('<s>',), ('<s>', 'گفتم'), ('<s>', 'گفتم', 'نه'), ('گفتم',), ('گفتم', 'نه'), ('گفتم', 'نه', 'حاجی'), ('نه',), ('نه', 'حاجی'), ('نه', 'حاجی', 'شما'), ('حاجی',), ('حاجی', 'شما'), ('حاجی', 'شما', 'هم'), ('شما',), ('شما', 'هم'), ('شما', 'هم', 'بروید'), ('هم',), ('هم', 'بروید'), ('هم', 'بروید', 'دیگر'), ('بروید',), ('بروید', 'دیگر'), ('بروید', 'دیگر', 'کسی'), ('دیگر',), ('دیگر', 'کسی'), ('دیگر', 'کسی', 'نیست'), ('کسی',), ('کسی', 'نیست'), ('کسی', 'نیست', '</s>'), ('نیست',), ('نیست', '</s>'), ('نیست', '</s>', '</s>'), ('</s>',), ('</s>', '</s>'), ('</s>',)]\n",
      "\n",
      "[('<s>',), ('<s>', '<s>'), ('<s>', '<s>', 'در'), ('<s>',), ('<s>', 'در'), ('<s>', 'در', 'این'), ('در',), ('در', 'این'), ('در', 'این', 'غربال'), ('این',), ('این', 'غربال'), ('این', 'غربال', 'گری'), ('غربال',), ('غربال', 'گری'), ('غربال', 'گری', 'ها'), ('گری',), ('گری', 'ها'), ('گری', 'ها', 'کیس'), ('ها',), ('ها', 'کیس'), ('ها', 'کیس', 'های'), ('کیس',), ('کیس', 'های'), ('کیس', 'های', 'مشکوکی'), ('های',), ('های', 'مشکوکی'), ('های', 'مشکوکی', 'با'), ('مشکوکی',), ('مشکوکی', 'با'), ('مشکوکی', 'با', 'علامت'), ('با',), ('با', 'علامت'), ('با', 'علامت', 'تب'), ('علامت',), ('علامت', 'تب'), ('علامت', 'تب', 'داشتیم'), ('تب',), ('تب', 'داشتیم'), ('تب', 'داشتیم', 'که'), ('داشتیم',), ('داشتیم', 'که'), ('داشتیم', 'که', 'خدا'), ('که',), ('که', 'خدا'), ('که', 'خدا', 'را'), ('خدا',), ('خدا', 'را'), ('خدا', 'را', 'شکر'), ('را',), ('را', 'شکر'), ('را', 'شکر', 'ورزشکاری'), ('شکر',), ('شکر', 'ورزشکاری'), ('شکر', 'ورزشکاری', 'نبود'), ('ورزشکاری',), ('ورزشکاری', 'نبود'), ('ورزشکاری', 'نبود', 'که'), ('نبود',), ('نبود', 'که'), ('نبود', 'که', 'با'), ('که',), ('که', 'با'), ('که', 'با', 'کرونا'), ('با',), ('با', 'کرونا'), ('با', 'کرونا', 'درگیر'), ('کرونا',), ('کرونا', 'درگیر'), ('کرونا', 'درگیر', 'باشد'), ('درگیر',), ('درگیر', 'باشد'), ('درگیر', 'باشد', 'اما'), ('باشد',), ('باشد', 'اما'), ('باشد', 'اما', 'در'), ('اما',), ('اما', 'در'), ('اما', 'در', 'بین'), ('در',), ('در', 'بین'), ('در', 'بین', 'همکاران'), ('بین',), ('بین', 'همکاران'), ('بین', 'همکاران', 'بودند'), ('همکاران',), ('همکاران', 'بودند'), ('همکاران', 'بودند', 'کسانی'), ('بودند',), ('بودند', 'کسانی'), ('بودند', 'کسانی', 'که'), ('کسانی',), ('کسانی', 'که'), ('کسانی', 'که', 'مبتلا'), ('که',), ('که', 'مبتلا'), ('که', 'مبتلا', 'شدند'), ('مبتلا',), ('مبتلا', 'شدند'), ('مبتلا', 'شدند', '</s>'), ('شدند',), ('شدند', '</s>'), ('شدند', '</s>', '</s>'), ('</s>',), ('</s>', '</s>'), ('</s>',)]\n",
      "\n",
      "[('<s>',), ('<s>', '<s>'), ('<s>', '<s>', 'حضرت'), ('<s>',), ('<s>', 'حضرت'), ('<s>', 'حضرت', 'رسول'), ('حضرت',), ('حضرت', 'رسول'), ('حضرت', 'رسول', 'در'), ('رسول',), ('رسول', 'در'), ('رسول', 'در', 'حلقه'), ('در',), ('در', 'حلقه'), ('در', 'حلقه', 'اصحاب'), ('حلقه',), ('حلقه', 'اصحاب'), ('حلقه', 'اصحاب', 'نشسته_بودند'), ('اصحاب',), ('اصحاب', 'نشسته_بودند'), ('اصحاب', 'نشسته_بودند', '</s>'), ('نشسته_بودند',), ('نشسته_بودند', '</s>'), ('نشسته_بودند', '</s>', '</s>'), ('</s>',), ('</s>', '</s>'), ('</s>',)]\n",
      "\n",
      "[('<s>',), ('<s>', '<s>'), ('<s>', '<s>', 'این'), ('<s>',), ('<s>', 'این'), ('<s>', 'این', 'اتفاق'), ('این',), ('این', 'اتفاق'), ('این', 'اتفاق', 'باعث'), ('اتفاق',), ('اتفاق', 'باعث'), ('اتفاق', 'باعث', 'شد'), ('باعث',), ('باعث', 'شد'), ('باعث', 'شد', 'تا'), ('شد',), ('شد', 'تا'), ('شد', 'تا', 'نقش'), ('تا',), ('تا', 'نقش'), ('تا', 'نقش', 'ایالات'), ('نقش',), ('نقش', 'ایالات'), ('نقش', 'ایالات', 'متحده'), ('ایالات',), ('ایالات', 'متحده'), ('ایالات', 'متحده', 'به'), ('متحده',), ('متحده', 'به'), ('متحده', 'به', 'عنوان'), ('به',), ('به', 'عنوان'), ('به', 'عنوان', 'جایگزین'), ('عنوان',), ('عنوان', 'جایگزین'), ('عنوان', 'جایگزین', 'طالبان'), ('جایگزین',), ('جایگزین', 'طالبان'), ('جایگزین', 'طالبان', 'در'), ('طالبان',), ('طالبان', 'در'), ('طالبان', 'در', 'افغانستان'), ('در',), ('در', 'افغانستان'), ('در', 'افغانستان', 'حذف'), ('افغانستان',), ('افغانستان', 'حذف'), ('افغانستان', 'حذف', 'و'), ('حذف',), ('حذف', 'و'), ('حذف', 'و', 'جای'), ('و',), ('و', 'جای'), ('و', 'جای', 'ن'), ('جای',), ('جای', 'ن'), ('جای', 'ن', 'را'), ('ن',), ('ن', 'را'), ('ن', 'را', 'دولتی'), ('را',), ('را', 'دولتی'), ('را', 'دولتی', 'بگیرد'), ('دولتی',), ('دولتی', 'بگیرد'), ('دولتی', 'بگیرد', 'که'), ('بگیرد',), ('بگیرد', 'که'), ('بگیرد', 'که', 'بومی'), ('که',), ('که', 'بومی'), ('که', 'بومی', 'و'), ('بومی',), ('بومی', 'و'), ('بومی', 'و', 'از'), ('و',), ('و', 'از'), ('و', 'از', 'میان'), ('از',), ('از', 'میان'), ('از', 'میان', 'سیاستمداران'), ('میان',), ('میان', 'سیاستمداران'), ('میان', 'سیاستمداران', 'افغان'), ('سیاستمداران',), ('سیاستمداران', 'افغان'), ('سیاستمداران', 'افغان', 'انتخاب'), ('افغان',), ('افغان', 'انتخاب'), ('افغان', 'انتخاب', 'شده_است'), ('انتخاب',), ('انتخاب', 'شده_است'), ('انتخاب', 'شده_است', '</s>'), ('شده_است',), ('شده_است', '</s>'), ('شده_است', '</s>', '</s>'), ('</s>',), ('</s>', '</s>'), ('</s>',)]\n",
      "\n",
      "[('<s>',), ('<s>', '<s>'), ('<s>', '<s>', 'وی'), ('<s>',), ('<s>', 'وی'), ('<s>', 'وی', 'اضافه'), ('وی',), ('وی', 'اضافه'), ('وی', 'اضافه', 'کرد'), ('اضافه',), ('اضافه', 'کرد'), ('اضافه', 'کرد', 'همه'), ('کرد',), ('کرد', 'همه'), ('کرد', 'همه', 'بخشهای'), ('همه',), ('همه', 'بخشهای'), ('همه', 'بخشهای', 'سازمان'), ('بخشهای',), ('بخشهای', 'سازمان'), ('بخشهای', 'سازمان', 'در'), ('سازمان',), ('سازمان', 'در'), ('سازمان', 'در', 'مقابله'), ('در',), ('در', 'مقابله'), ('در', 'مقابله', 'با'), ('مقابله',), ('مقابله', 'با'), ('مقابله', 'با', 'کرونا'), ('با',), ('با', 'کرونا'), ('با', 'کرونا', 'و'), ('کرونا',), ('کرونا', 'و'), ('کرونا', 'و', 'حفظ'), ('و',), ('و', 'حفظ'), ('و', 'حفظ', 'رامش'), ('حفظ',), ('حفظ', 'رامش'), ('حفظ', 'رامش', 'مردم'), ('رامش',), ('رامش', 'مردم'), ('رامش', 'مردم', 'از'), ('مردم',), ('مردم', 'از'), ('مردم', 'از', 'هیچ'), ('از',), ('از', 'هیچ'), ('از', 'هیچ', 'چیز'), ('هیچ',), ('هیچ', 'چیز'), ('هیچ', 'چیز', 'دریغ'), ('چیز',), ('چیز', 'دریغ'), ('چیز', 'دریغ', 'نمی'), ('دریغ',), ('دریغ', 'نمی'), ('دریغ', 'نمی', 'کنند'), ('نمی',), ('نمی', 'کنند'), ('نمی', 'کنند', 'و'), ('کنند',), ('کنند', 'و'), ('کنند', 'و', 'تلاش'), ('و',), ('و', 'تلاش'), ('و', 'تلاش', 'دارند'), ('تلاش',), ('تلاش', 'دارند'), ('تلاش', 'دارند', 'تا'), ('دارند',), ('دارند', 'تا'), ('دارند', 'تا', 'خرین'), ('تا',), ('تا', 'خرین'), ('تا', 'خرین', 'لحظه'), ('خرین',), ('خرین', 'لحظه'), ('خرین', 'لحظه', 'کار'), ('لحظه',), ('لحظه', 'کار'), ('لحظه', 'کار', 'کنند'), ('کار',), ('کار', 'کنند'), ('کار', 'کنند', 'و'), ('کنند',), ('کنند', 'و'), ('کنند', 'و', 'حتی'), ('و',), ('و', 'حتی'), ('و', 'حتی', 'از'), ('حتی',), ('حتی', 'از'), ('حتی', 'از', 'جان'), ('از',), ('از', 'جان'), ('از', 'جان', 'خود'), ('جان',), ('جان', 'خود'), ('جان', 'خود', 'هم'), ('خود',), ('خود', 'هم'), ('خود', 'هم', 'می'), ('هم',), ('هم', 'می'), ('هم', 'می', 'گذرند'), ('می',), ('می', 'گذرند'), ('می', 'گذرند', '</s>'), ('گذرند',), ('گذرند', '</s>'), ('گذرند', '</s>', '</s>'), ('</s>',), ('</s>', '</s>'), ('</s>',)]\n",
      "\n",
      "[('<s>',), ('<s>', '<s>'), ('<s>', '<s>', 'در'), ('<s>',), ('<s>', 'در'), ('<s>', 'در', 'روایات'), ('در',), ('در', 'روایات'), ('در', 'روایات', 'ما'), ('روایات',), ('روایات', 'ما'), ('روایات', 'ما', 'به'), ('ما',), ('ما', 'به'), ('ما', 'به', 'طور'), ('به',), ('به', 'طور'), ('به', 'طور', 'مکرر'), ('طور',), ('طور', 'مکرر'), ('طور', 'مکرر', 'از'), ('مکرر',), ('مکرر', 'از'), ('مکرر', 'از', 'دو'), ('از',), ('از', 'دو'), ('از', 'دو', 'غیبت'), ('دو',), ('دو', 'غیبت'), ('دو', 'غیبت', 'ن'), ('غیبت',), ('غیبت', 'ن'), ('غیبت', 'ن', 'حضرت'), ('ن',), ('ن', 'حضرت'), ('ن', 'حضرت', 'سخن'), ('حضرت',), ('حضرت', 'سخن'), ('حضرت', 'سخن', 'به'), ('سخن',), ('سخن', 'به'), ('سخن', 'به', 'میان'), ('به',), ('به', 'میان'), ('به', 'میان', 'مده'), ('میان',), ('میان', 'مده'), ('میان', 'مده', 'و'), ('مده',), ('مده', 'و'), ('مده', 'و', 'از'), ('و',), ('و', 'از'), ('و', 'از', 'سالها'), ('از',), ('از', 'سالها'), ('از', 'سالها', 'پیش'), ('سالها',), ('سالها', 'پیش'), ('سالها', 'پیش', 'از'), ('پیش',), ('پیش', 'از'), ('پیش', 'از', 'تولد'), ('از',), ('از', 'تولد'), ('از', 'تولد', 'امام'), ('تولد',), ('تولد', 'امام'), ('تولد', 'امام', 'مهدی'), ('امام',), ('امام', 'مهدی'), ('امام', 'مهدی', 'ع'), ('مهدی',), ('مهدی', 'ع'), ('مهدی', 'ع', 'بر'), ('ع',), ('ع', 'بر'), ('ع', 'بر', 'این'), ('بر',), ('بر', 'این'), ('بر', 'این', 'موضوع'), ('این',), ('این', 'موضوع'), ('این', 'موضوع', 'تصریح'), ('موضوع',), ('موضوع', 'تصریح'), ('موضوع', 'تصریح', 'شده_است'), ('تصریح',), ('تصریح', 'شده_است'), ('تصریح', 'شده_است', 'که'), ('شده_است',), ('شده_است', 'که'), ('شده_است', 'که', 'حضرتش'), ('که',), ('که', 'حضرتش'), ('که', 'حضرتش', 'دو'), ('حضرتش',), ('حضرتش', 'دو'), ('حضرتش', 'دو', 'غیبت'), ('دو',), ('دو', 'غیبت'), ('دو', 'غیبت', 'خواهند_داشت'), ('غیبت',), ('غیبت', 'خواهند_داشت'), ('غیبت', 'خواهند_داشت', 'که'), ('خواهند_داشت',), ('خواهند_داشت', 'که'), ('خواهند_داشت', 'که', 'هر'), ('که',), ('که', 'هر'), ('که', 'هر', 'یک'), ('هر',), ('هر', 'یک'), ('هر', 'یک', 'با'), ('یک',), ('یک', 'با'), ('یک', 'با', 'دیگری'), ('با',), ('با', 'دیگری'), ('با', 'دیگری', 'متفاوت'), ('دیگری',), ('دیگری', 'متفاوت'), ('دیگری', 'متفاوت', 'است'), ('متفاوت',), ('متفاوت', 'است'), ('متفاوت', 'است', '</s>'), ('است',), ('است', '</s>'), ('است', '</s>', '</s>'), ('</s>',), ('</s>', '</s>'), ('</s>',)]\n",
      "\n",
      "[('<s>',), ('<s>', '<s>'), ('<s>', '<s>', 'نکته'), ('<s>',), ('<s>', 'نکته'), ('<s>', 'نکته', 'مهم'), ('نکته',), ('نکته', 'مهم'), ('نکته', 'مهم', 'این'), ('مهم',), ('مهم', 'این'), ('مهم', 'این', 'است'), ('این',), ('این', 'است'), ('این', 'است', 'که'), ('است',), ('است', 'که'), ('است', 'که', 'نباید'), ('که',), ('که', 'نباید'), ('که', 'نباید', 'انتظار'), ('نباید',), ('نباید', 'انتظار'), ('نباید', 'انتظار', 'کار'), ('انتظار',), ('انتظار', 'کار'), ('انتظار', 'کار', 'ویژهای'), ('کار',), ('کار', 'ویژهای'), ('کار', 'ویژهای', 'را'), ('ویژهای',), ('ویژهای', 'را'), ('ویژهای', 'را', 'در'), ('را',), ('را', 'در'), ('را', 'در', 'مدت'), ('در',), ('در', 'مدت'), ('در', 'مدت', 'کوتاه'), ('مدت',), ('مدت', 'کوتاه'), ('مدت', 'کوتاه', 'داشت'), ('کوتاه',), ('کوتاه', 'داشت'), ('کوتاه', 'داشت', 'اما'), ('داشت',), ('داشت', 'اما'), ('داشت', 'اما', 'این'), ('اما',), ('اما', 'این'), ('اما', 'این', 'ریلگذاری'), ('این',), ('این', 'ریلگذاری'), ('این', 'ریلگذاری', 'ما'), ('ریلگذاری',), ('ریلگذاری', 'ما'), ('ریلگذاری', 'ما', 'را'), ('ما',), ('ما', 'را'), ('ما', 'را', 'به'), ('را',), ('را', 'به'), ('را', 'به', 'نقطه'), ('به',), ('به', 'نقطه'), ('به', 'نقطه', 'خوبی'), ('نقطه',), ('نقطه', 'خوبی'), ('نقطه', 'خوبی', 'خواهد_رساند'), ('خوبی',), ('خوبی', 'خواهد_رساند'), ('خوبی', 'خواهد_رساند', '</s>'), ('خواهد_رساند',), ('خواهد_رساند', '</s>'), ('خواهد_رساند', '</s>', '</s>'), ('</s>',), ('</s>', '</s>'), ('</s>',)]\n",
      "\n",
      "[('<s>',), ('<s>', '<s>'), ('<s>', '<s>', 'ارتفاع'), ('<s>',), ('<s>', 'ارتفاع'), ('<s>', 'ارتفاع', 'پست'), ('ارتفاع',), ('ارتفاع', 'پست'), ('ارتفاع', 'پست', 'ابراهیم'), ('پست',), ('پست', 'ابراهیم'), ('پست', 'ابراهیم', 'حاتمیکیا'), ('ابراهیم',), ('ابراهیم', 'حاتمیکیا'), ('ابراهیم', 'حاتمیکیا', 'هم'), ('حاتمیکیا',), ('حاتمیکیا', 'هم'), ('حاتمیکیا', 'هم', 'پسزمینه'), ('هم',), ('هم', 'پسزمینه'), ('هم', 'پسزمینه', 'جنگ'), ('پسزمینه',), ('پسزمینه', 'جنگ'), ('پسزمینه', 'جنگ', 'دارد'), ('جنگ',), ('جنگ', 'دارد'), ('جنگ', 'دارد', 'و'), ('دارد',), ('دارد', 'و'), ('دارد', 'و', 'پیامدهای'), ('و',), ('و', 'پیامدهای'), ('و', 'پیامدهای', 'جنگ'), ('پیامدهای',), ('پیامدهای', 'جنگ'), ('پیامدهای', 'جنگ', 'را'), ('جنگ',), ('جنگ', 'را'), ('جنگ', 'را', 'بر'), ('را',), ('را', 'بر'), ('را', 'بر', 'زندگی'), ('بر',), ('بر', 'زندگی'), ('بر', 'زندگی', 'مردم'), ('زندگی',), ('زندگی', 'مردم'), ('زندگی', 'مردم', 'خوزستان'), ('مردم',), ('مردم', 'خوزستان'), ('مردم', 'خوزستان', 'روایت'), ('خوزستان',), ('خوزستان', 'روایت'), ('خوزستان', 'روایت', 'می'), ('روایت',), ('روایت', 'می'), ('روایت', 'می', 'کند'), ('می',), ('می', 'کند'), ('می', 'کند', 'و'), ('کند',), ('کند', 'و'), ('کند', 'و', 'سرانجام'), ('و',), ('و', 'سرانجام'), ('و', 'سرانجام', 'بمب'), ('سرانجام',), ('سرانجام', 'بمب'), ('سرانجام', 'بمب', 'یک'), ('بمب',), ('بمب', 'یک'), ('بمب', 'یک', 'عاشقانه'), ('یک',), ('یک', 'عاشقانه'), ('یک', 'عاشقانه', 'پیمان'), ('عاشقانه',), ('عاشقانه', 'پیمان'), ('عاشقانه', 'پیمان', 'معادی'), ('پیمان',), ('پیمان', 'معادی'), ('پیمان', 'معادی', 'که'), ('معادی',), ('معادی', 'که'), ('معادی', 'که', 'داستان'), ('که',), ('که', 'داستان'), ('که', 'داستان', 'ن'), ('داستان',), ('داستان', 'ن'), ('داستان', 'ن', 'در'), ('ن',), ('ن', 'در'), ('ن', 'در', 'دوران'), ('در',), ('در', 'دوران'), ('در', 'دوران', 'موشکباران'), ('دوران',), ('دوران', 'موشکباران'), ('دوران', 'موشکباران', 'شهرها'), ('موشکباران',), ('موشکباران', 'شهرها'), ('موشکباران', 'شهرها', 'روایت'), ('شهرها',), ('شهرها', 'روایت'), ('شهرها', 'روایت', 'می'), ('روایت',), ('روایت', 'می'), ('روایت', 'می', 'شود'), ('می',), ('می', 'شود'), ('می', 'شود', '</s>'), ('شود',), ('شود', '</s>'), ('شود', '</s>', '</s>'), ('</s>',), ('</s>', '</s>'), ('</s>',)]\n",
      "\n",
      "[('<s>',), ('<s>', '<s>'), ('<s>', '<s>', 'وی'), ('<s>',), ('<s>', 'وی'), ('<s>', 'وی', 'ادامه'), ('وی',), ('وی', 'ادامه'), ('وی', 'ادامه', 'داد'), ('ادامه',), ('ادامه', 'داد'), ('ادامه', 'داد', 'این'), ('داد',), ('داد', 'این'), ('داد', 'این', 'مسیر'), ('این',), ('این', 'مسیر'), ('این', 'مسیر', 'به'), ('مسیر',), ('مسیر', 'به'), ('مسیر', 'به', 'علت'), ('به',), ('به', 'علت'), ('به', 'علت', 'پایین'), ('علت',), ('علت', 'پایین'), ('علت', 'پایین', 'مدن'), ('پایین',), ('پایین', 'مدن'), ('پایین', 'مدن', 'چند'), ('مدن',), ('مدن', 'چند'), ('مدن', 'چند', 'قطعه'), ('چند',), ('چند', 'قطعه'), ('چند', 'قطعه', 'سنگ'), ('قطعه',), ('قطعه', 'سنگ'), ('قطعه', 'سنگ', 'بزرگ'), ('سنگ',), ('سنگ', 'بزرگ'), ('سنگ', 'بزرگ', 'بر'), ('بزرگ',), ('بزرگ', 'بر'), ('بزرگ', 'بر', 'اثر'), ('بر',), ('بر', 'اثر'), ('بر', 'اثر', 'برخورد'), ('اثر',), ('اثر', 'برخورد'), ('اثر', 'برخورد', 'صاعقه'), ('برخورد',), ('برخورد', 'صاعقه'), ('برخورد', 'صاعقه', 'با'), ('صاعقه',), ('صاعقه', 'با'), ('صاعقه', 'با', 'کوه'), ('با',), ('با', 'کوه'), ('با', 'کوه', 'مسدود'), ('کوه',), ('کوه', 'مسدود'), ('کوه', 'مسدود', 'شده_است'), ('مسدود',), ('مسدود', 'شده_است'), ('مسدود', 'شده_است', 'و'), ('شده_است',), ('شده_است', 'و'), ('شده_است', 'و', 'در'), ('و',), ('و', 'در'), ('و', 'در', 'سایه'), ('در',), ('در', 'سایه'), ('در', 'سایه', 'تلاش'), ('سایه',), ('سایه', 'تلاش'), ('سایه', 'تلاش', 'راهدارای'), ('تلاش',), ('تلاش', 'راهدارای'), ('تلاش', 'راهدارای', 'و'), ('راهدارای',), ('راهدارای', 'و'), ('راهدارای', 'و', 'جابهجایی'), ('و',), ('و', 'جابهجایی'), ('و', 'جابهجایی', 'سنگهای'), ('جابهجایی',), ('جابهجایی', 'سنگهای'), ('جابهجایی', 'سنگهای', 'کوچک'), ('سنگهای',), ('سنگهای', 'کوچک'), ('سنگهای', 'کوچک', 'این'), ('کوچک',), ('کوچک', 'این'), ('کوچک', 'این', 'راه'), ('این',), ('این', 'راه'), ('این', 'راه', 'روستایی'), ('راه',), ('راه', 'روستایی'), ('راه', 'روستایی', 'به'), ('روستایی',), ('روستایی', 'به'), ('روستایی', 'به', 'صورت'), ('به',), ('به', 'صورت'), ('به', 'صورت', 'موقت'), ('صورت',), ('صورت', 'موقت'), ('صورت', 'موقت', 'و'), ('موقت',), ('موقت', 'و'), ('موقت', 'و', 'کنارگذر'), ('و',), ('و', 'کنارگذر'), ('و', 'کنارگذر', 'بازگشایی'), ('کنارگذر',), ('کنارگذر', 'بازگشایی'), ('کنارگذر', 'بازگشایی', 'شده_است'), ('بازگشایی',), ('بازگشایی', 'شده_است'), ('بازگشایی', 'شده_است', '</s>'), ('شده_است',), ('شده_است', '</s>'), ('شده_است', '</s>', '</s>'), ('</s>',), ('</s>', '</s>'), ('</s>',)]\n",
      "\n",
      "[('<s>',), ('<s>', '<s>'), ('<s>', '<s>', 'اساسا'), ('<s>',), ('<s>', 'اساسا'), ('<s>', 'اساسا', 'حمایت'), ('اساسا',), ('اساسا', 'حمایت'), ('اساسا', 'حمایت', 'از'), ('حمایت',), ('حمایت', 'از'), ('حمایت', 'از', 'بخش'), ('از',), ('از', 'بخش'), ('از', 'بخش', 'کشاورزی'), ('بخش',), ('بخش', 'کشاورزی'), ('بخش', 'کشاورزی', 'و'), ('کشاورزی',), ('کشاورزی', 'و'), ('کشاورزی', 'و', 'غذا'), ('و',), ('و', 'غذا'), ('و', 'غذا', 'به'), ('غذا',), ('غذا', 'به'), ('غذا', 'به', 'لحاظ'), ('به',), ('به', 'لحاظ'), ('به', 'لحاظ', 'مبانی'), ('لحاظ',), ('لحاظ', 'مبانی'), ('لحاظ', 'مبانی', 'توریک'), ('مبانی',), ('مبانی', 'توریک'), ('مبانی', 'توریک', 'اجتناب'), ('توریک',), ('توریک', 'اجتناب'), ('توریک', 'اجتناب', 'ناپذیر'), ('اجتناب',), ('اجتناب', 'ناپذیر'), ('اجتناب', 'ناپذیر', 'است'), ('ناپذیر',), ('ناپذیر', 'است'), ('ناپذیر', 'است', '</s>'), ('است',), ('است', '</s>'), ('است', '</s>', '</s>'), ('</s>',), ('</s>', '</s>'), ('</s>',)]\n",
      "\n"
     ]
    }
   ],
   "source": [
    "from nltk import word_tokenize\n",
    "from nltk.lm import MLE\n",
    "from nltk.lm.preprocessing import pad_both_ends, padded_everygram_pipeline\n",
    "from nltk.lm.preprocessing import padded_everygram_pipeline\n",
    "\n",
    "# Set the n-gram size\n",
    "n = 3\n",
    "\n",
    "# Check pre-processing on a subset:\n",
    "\n",
    "#This preprocessing step helps models capture context effectively, especially at sentence boundaries.\n",
    "\n",
    "ngram_data, padded = padded_everygram_pipeline(n, train_corpus[0:10])\n",
    "\n",
    "# What is the effect of padding?\n",
    "\n",
    "# Padding adds special tokens (start symbol <s>) and (end symbol </s>) to the text to signify sentence boundaries.\n",
    "# This ensures that n-grams near the edges of a sentence (e.g., start or end) still form complete n-grams\n",
    "# by including these tokens. For example, in trigrams, first_word and last_word are generated.\n",
    "\n",
    "print(\"PADDING:\")\n",
    "print(list(padded))\n",
    "\n",
    "# Which ngrams do we get?\n",
    "\n",
    "# Unigrams: Individual words or tokens, e.g., ('<s>',), ('volume',).\n",
    "# Bigrams: Pairs of tokens, e.g., ('<s>', '<s>'), ('<s>', 'volume').\n",
    "# Trigrams: Groups of three tokens, e.g., ('<s>', '<s>', 'volume'), ('<s>', 'volume', 'i').\n",
    "# Padding ensures valid n-grams even at sentence start/end.\n",
    "\n",
    "print(\"\\n\\nNGRAMS:\")\n",
    "for ngrams in ngram_data:\n",
    "    print(list(ngrams))\n",
    "    print()"
   ]
  },
  {
   "cell_type": "code",
   "execution_count": 12,
   "metadata": {
    "id": "JfseDQAZ8Fxa"
   },
   "outputs": [],
   "source": [
    "from nltk.lm import MLE\n",
    "\n",
    "n=3\n",
    "\n",
    "# Train data is an iterator over the pre-processed input\n",
    "train_data, padded_sents = padded_everygram_pipeline(n, train_corpus)\n",
    "\n",
    "model = MLE(n)\n",
    "model.fit(train_data, padded_sents)"
   ]
  },
  {
   "cell_type": "code",
   "execution_count": 13,
   "metadata": {
    "colab": {
     "base_uri": "https://localhost:8080/"
    },
    "id": "oNpvkUIpoblc",
    "outputId": "2434e880-104d-4b1c-a802-d2c1ce401b70"
   },
   "outputs": [
    {
     "name": "stdout",
     "output_type": "stream",
     "text": [
      "<Vocabulary with cutoff=1 unk_label='<UNK>' and 53147 items>\n",
      "\n",
      "[('<s>', 160000), ('</s>', 160000), ('و', 80726), ('در', 68527), ('به', 57193), ('از', 46674), ('این', 36084), ('که', 35698), ('می', 30555), ('را', 28998), ('با', 27376), ('است', 19381), ('برای', 13186), ('کرد', 10405), ('های', 9613), ('شود', 9205), ('یک', 8464), ('هم', 8270), ('ن', 7968), ('تا', 7281), ('گفت', 7094), ('شد', 7089), ('خود', 6456), ('بر', 6087), ('کند', 5926), ('وی', 5506), ('ایران', 5451), ('سال', 5366), ('ما', 5316), ('کشور', 5088), ('ها', 5024), ('نیز', 4921), ('باید', 4874), ('اما', 4792), ('دارد', 4758), ('کنند', 4755), ('کرونا', 4622), ('بود', 4543), ('او', 4449), ('یا', 4290), ('شده', 4133), ('مردم', 4115), ('داد', 4090), ('استان', 3984), ('قرار', 3791), ('روز', 3528), ('اینکه', 3433), ('نها', 3431), ('نمی', 3360), ('دیگر', 3355)]\n",
      "\n",
      "[('گوادالاخارا', 1), ('جالیسکو', 1), ('خواسته_ای', 1), ('ورشوه', 1), ('چکارمیکنن', 1), ('روچه', 1), ('روو', 1), ('مادگیاش', 1), ('بوردو', 1), ('نینوی', 1), ('سرطانزادیی', 1), ('چاپگرهای', 1), ('حقا', 1), ('جهانپوری', 1), ('مقابلت', 1), ('سیداحد', 1), ('یوزباشی', 1), ('برومندانهتر', 1), ('سرگیرند', 1), ('کوچولوهای', 1), ('بهانهگیر', 1), ('دزدیده_شد', 1), ('پایگاهایش', 1), ('حتیالامکان', 1), ('کنگیها', 1), ('گچپزان', 1), ('بسته_نشد', 1), ('گزارشهایشان', 1), ('رسمیتر', 1), ('علنیتر', 1), ('دفتریتالله', 1), ('دشنام', 1), ('نامتناسب', 1), ('غیرقابلتصور', 1), ('پایانناپذیر', 1), ('ادعاهایمان', 1), ('پران', 1), ('نگرشهای', 1), ('خواهد_نقش', 1), ('سوختکی', 1), ('پرسشگر', 1), ('ایولین', 1), ('دروازهبانان', 1), ('نفعمان', 1), ('کاردستیمان', 1), ('پرچمهایی', 1), ('تورات', 1), ('ونژاد', 1), ('علیفر', 1), ('نفروشد', 1)]\n"
     ]
    }
   ],
   "source": [
    "# Let's have a look at the vocabulary\n",
    "print(model.vocab)\n",
    "print()\n",
    "print(model.vocab.counts.most_common(50))\n",
    "print()\n",
    "print(model.vocab.counts.most_common()[-50:])\n",
    "\n",
    "# You can see that the text is much cleaner than the corpora that were crawled from the web"
   ]
  },
  {
   "cell_type": "code",
   "execution_count": null,
   "metadata": {
    "colab": {
     "base_uri": "https://localhost:8080/"
    },
    "id": "pGyQdNB-9nIM",
    "outputId": "80281e66-e7fa-4a67-9693-30618091873b"
   },
   "outputs": [
    {
     "name": "stdout",
     "output_type": "stream",
     "text": [
      "<NgramCounter with 3 ngram orders and 6377730 ngrams>\n",
      "1033\n",
      "475\n",
      "397\n"
     ]
    }
   ],
   "source": [
    "print(model.counts)\n",
    "#('دانشگاه', 'علوم', 'پزشکی'): 397\n",
    "# counts for unigrams:\n",
    "print(model.counts['پزشکی']) # i.e. Count('not')\n",
    "# count for bigrams\n",
    "print(model.counts[['علوم']]['پزشکی']) # i.e. Count('not'|'was')\n",
    "# count for trigrams\n",
    "print(model.counts[['دانشگاه', 'علوم']]['پزشکی']) # i.e. Count('not'|'emma was')"
   ]
  },
  {
   "cell_type": "code",
   "execution_count": null,
   "metadata": {
    "colab": {
     "base_uri": "https://localhost:8080/"
    },
    "id": "hKNUjQaJ-hY4",
    "outputId": "7c7a4d66-70cf-4a6a-943d-e1ae9b514519"
   },
   "outputs": [
    {
     "name": "stdout",
     "output_type": "stream",
     "text": [
      "\n",
      "Probability of the word 'دانشگاه'\n",
      "0.00059\n",
      "0.00069\n",
      "\n",
      "Adjust for padding tokens\n",
      "1885910 320000\n",
      "0.00059\n",
      "\n",
      "Probabilities padding tokens\n",
      "0.07253\n",
      "0.07253\n"
     ]
    }
   ],
   "source": [
    "all_tokens = [tok for sent in train_corpus for tok in sent]\n",
    "num_tokens = len(all_tokens)\n",
    "num_sentences = len(train_corpus)\n",
    "\n",
    "model_score = model.score('دانشگاه')\n",
    "probability = model.counts['دانشگاه']/num_tokens\n",
    "\n",
    "\n",
    "print(\"\\nProbability of the word 'دانشگاه'\")\n",
    "print(\"{:.5f}\".format(model_score))\n",
    "print(\"{:.5f}\".format(probability))\n",
    "\n",
    "print(\"\\nAdjust for padding tokens\")\n",
    "all_padding_tokens = num_sentences * (n-1) * 2\n",
    "print(num_tokens, all_padding_tokens)\n",
    "\n",
    "adjusted_probability = model.counts['دانشگاه']/(num_tokens + all_padding_tokens)\n",
    "print(\"{:.5f}\".format(adjusted_probability))\n",
    "\n",
    "print(\"\\nProbabilities padding tokens\")\n",
    "print(\"{:.5f}\".format(model.score('<s>')))\n",
    "print(\"{:.5f}\".format(model.score('</s>')))"
   ]
  },
  {
   "cell_type": "code",
   "execution_count": null,
   "metadata": {
    "colab": {
     "base_uri": "https://localhost:8080/"
    },
    "id": "CT86RrP3obld",
    "outputId": "71e2cf3f-7d19-4b12-927a-8d59bf1e919d"
   },
   "outputs": [
    {
     "name": "stdout",
     "output_type": "stream",
     "text": [
      "0.7078986587183308\n",
      "0.9925\n",
      "\n"
     ]
    }
   ],
   "source": [
    "# We can also calculate the frequency for higher n-grams.\n",
    "# bigram\n",
    "print(model.score('پزشکی', ['علوم']))  # P('not'|'is')\n",
    "# trigram\n",
    "print(model.score('پزشکی', ['دانشگاه', 'علوم']))  # P('not'|'emma is')\n",
    "print()"
   ]
  },
  {
   "cell_type": "code",
   "execution_count": null,
   "metadata": {
    "colab": {
     "base_uri": "https://localhost:8080/"
    },
    "id": "9HJqtRx8-3S8",
    "outputId": "c311f422-3ff5-4561-a95f-b57a4320e0fd"
   },
   "outputs": [
    {
     "name": "stdout",
     "output_type": "stream",
     "text": [
      "0.10015220700152207\n",
      "-3.3197338814744506\n"
     ]
    }
   ],
   "source": [
    "# To avoid underflow when working with many small score values, we usually work with log probabilities instead.\n",
    "# This can be done with the `logscore` method.\n",
    "#('هزار', 'نفر'): 690\n",
    "print(model.score('نفر', ['هزار']))\n",
    "print(model.logscore('نفر', ['هزار']))"
   ]
  },
  {
   "cell_type": "code",
   "execution_count": null,
   "metadata": {
    "colab": {
     "base_uri": "https://localhost:8080/"
    },
    "id": "u7NWQE2o8g36",
    "outputId": "87f39ebe-93ff-47fb-da88-274b85250961"
   },
   "outputs": [
    {
     "name": "stdout",
     "output_type": "stream",
     "text": [
      "('در', 'دانشگاه', 'علوم', 'پزشکی', '<UNK>', 'قدم', 'می', 'زند')\n"
     ]
    }
   ],
   "source": [
    "# The vocabulary helps us handle words that have not occurred during training.\n",
    "# If we lookup the vocab on unseen sentences not from the training data,\n",
    "# it automatically replace words not in the vocabulary with `<UNK>`.\n",
    "print(model.vocab.lookup('در دانشگاه علوم پزشکی موژان قدم می زند'.split()))"
   ]
  },
  {
   "cell_type": "code",
   "execution_count": null,
   "metadata": {
    "colab": {
     "base_uri": "https://localhost:8080/"
    },
    "id": "lL4cvl0v-sRH",
    "outputId": "ca121b27-b67a-410c-e936-ee029947facb"
   },
   "outputs": [
    {
     "name": "stdout",
     "output_type": "stream",
     "text": [
      "True\n",
      "0.0 -inf\n",
      "0.0 -inf\n"
     ]
    }
   ],
   "source": [
    "# Items that are not seen during training are mapped to the vocabulary's \"unknown label\" token.  This is \"<UNK>\" by default.\n",
    "print(model.score(\"<UNK>\") == model.score(\"موژان\"))\n",
    "\n",
    "# The MLE model does not apply any smoothing, so the probability for UNK is 0\n",
    "print(model.score(\"<UNK>\"),model.logscore(\"<UNK>\") )\n",
    "\n",
    "# As a consequence, the probability for a phrase containing an unknown word is also 0.\n",
    "print(model.score('موژان', ['علوم', 'پزشکی']), model.logscore('موژان', ['علوم', 'پزشکی']))"
   ]
  },
  {
   "cell_type": "code",
   "execution_count": null,
   "metadata": {
    "colab": {
     "base_uri": "https://localhost:8080/"
    },
    "id": "QvLtcoKYoble",
    "outputId": "0cb202f9-7924-40cb-c42f-dac5a368eaa0"
   },
   "outputs": [
    {
     "name": "stdout",
     "output_type": "stream",
     "text": [
      "0.00029746925376384926\n",
      "0.0004577131077259228\n",
      "1.8649061952183804e-05\n",
      "\n",
      "-11.71497181948087\n",
      "-11.093268771944695\n",
      "-15.710537409691842\n"
     ]
    }
   ],
   "source": [
    "from nltk.lm import Laplace\n",
    "n = 3\n",
    "train_data, padded_sents = padded_everygram_pipeline(n, train_corpus)\n",
    "smoothed_model_small =  Laplace(n)\n",
    "smoothed_model_small.fit(train_data, padded_sents)\n",
    "print(smoothed_model_small.score('علوم'))\n",
    "print(smoothed_model_small.score('پزشکی'))\n",
    "print(smoothed_model_small.score('موژان', ['علوم', 'پزشکی']))\n",
    "print()\n",
    "print(smoothed_model_small.logscore('علوم'))\n",
    "print(smoothed_model_small.logscore('پزشکی'))\n",
    "print(smoothed_model_small.logscore('موژان', ['علوم', 'پزشکی']))"
   ]
  },
  {
   "cell_type": "code",
   "execution_count": null,
   "metadata": {
    "colab": {
     "base_uri": "https://localhost:8080/"
    },
    "id": "IYnRJaJXoblf",
    "outputId": "c3819e3f-45b3-4e73-d9b7-6f958213599f"
   },
   "outputs": [
    {
     "data": {
      "text/plain": [
       "['اقدام',\n",
       " 'به',\n",
       " 'مثلا',\n",
       " 'ابطال',\n",
       " 'واحدهای',\n",
       " 'صندوق',\n",
       " 'نماید',\n",
       " 'در',\n",
       " 'نتیجه',\n",
       " 'استرس',\n",
       " 'اکسیداتیو',\n",
       " 'جلوگیری',\n",
       " 'می',\n",
       " 'شود',\n",
       " '</s>']"
      ]
     },
     "execution_count": 16,
     "metadata": {},
     "output_type": "execute_result"
    }
   ],
   "source": [
    "smoothed_model_small.generate(text_seed=[\"در\", \"دانشگاه\", \"علوم\", \"پزشکی\"], num_words=15, random_seed=1)"
   ]
  },
  {
   "cell_type": "code",
   "execution_count": null,
   "metadata": {
    "id": "iXRAyNSWRjbt"
   },
   "outputs": [],
   "source": [
    "test_data, _ = padded_everygram_pipeline(n, val_corpus)\n",
    "\n",
    "perplexity = []\n",
    "for test in test_data:\n",
    "  perplexity.append(model.perplexity(test))"
   ]
  },
  {
   "cell_type": "code",
   "execution_count": null,
   "metadata": {
    "id": "FCp7554M9jEo"
   },
   "outputs": [],
   "source": [
    "values = []\n",
    "#TODO\n",
    "for i in range(len(perplexity)):\n",
    "  if not np.isinf(perplexity[i]):\n",
    "    values.append(i)"
   ]
  },
  {
   "cell_type": "code",
   "execution_count": null,
   "metadata": {
    "id": "4OwMJON0_rNY"
   },
   "outputs": [],
   "source": [
    "vali1d_perplexity = [perplexity[i] for i in values]\n",
    "idx = np.argpartition(valid_perplexity, 10)\n",
    "# vali1d_perplexity[idx[0]]"
   ]
  },
  {
   "cell_type": "code",
   "execution_count": null,
   "metadata": {
    "colab": {
     "base_uri": "https://localhost:8080/"
    },
    "id": "Hi_s6unbDLbv",
    "outputId": "3334b91f-6f95-4f29-b8b0-67cb93315016"
   },
   "outputs": [
    {
     "name": "stdout",
     "output_type": "stream",
     "text": [
      "length of the whole test data: 10000\n",
      "length of the filtered test data: 81\n"
     ]
    }
   ],
   "source": [
    "print(f\"length of the whole test data: {len(perplexity)}\")\n",
    "print(f\"length of the filtered test data: {len(vali1d_perplexity)}\")"
   ]
  },
  {
   "cell_type": "code",
   "execution_count": null,
   "metadata": {
    "colab": {
     "base_uri": "https://localhost:8080/"
    },
    "id": "XdTNJBde-lZ2",
    "outputId": "8a7c2d9d-a0ed-4978-d2e0-30a1271880f1"
   },
   "outputs": [
    {
     "name": "stdout",
     "output_type": "stream",
     "text": [
      "(['به', 'فاصله', 'کمی', 'از', 'این', 'جنجال', 'ها', 'خبر', 'بازداشت', 'تبریزیان', 'هم', 'رسانهای', 'شد', 'و', 'کانال', 'تلگرامی', 'دولت', 'بهار', 'منتسب', 'به', 'هواداران', 'محمود', 'احمدینژاد', 'ریسجمهور', 'سابق', 'ایران', 'از', 'بازداشت', 'تبریزیان', 'خبر', 'داد']):92.6692647165229\n",
      "(['برابر', 'میانگین', 'جهانی', 'است']):41.24773731012237\n",
      "(['براساس', 'اعلام', 'بانک', 'مرکزی']):52.680438408255725\n",
      "(['متاسفانه', 'در', 'طول', 'ساعت', 'گذشته', 'بیمار', 'کووید', 'جان', 'خود', 'را', 'از', 'دست', 'دادند']):29.39017024389159\n",
      "(['و', 'بر', 'اساس', 'مصوبه', 'مورخ']):46.12720416408969\n",
      "(['درصد', 'بوده_است']):22.698559210195157\n",
      "(['درصد', 'کاهش', 'پیدا', 'کرده_است']):27.649245631191263\n",
      "(['طی', 'ساعت', 'گذشته', 'این', 'کشور', 'مورد', 'ابتلای', 'جدید', 'به', 'کرونا', 'را', 'شناسایی', 'کرده_است']):58.60122081896455\n",
      "(['به', 'گزارش', 'همشهرینلاین', 'دکتر', 'سیما', 'سادات', 'لاری', 'سخنگوی', 'وزارت', 'بهداشت', 'گفت', 'از', 'دیروز', 'تا', 'امروز', 'بان', 'و', 'بر', 'اساس', 'معیارهای', 'قطعی', 'تشخیصی', 'هزار', 'و', 'بیمار', 'جدید', 'مبتلا', 'به', 'کووید', 'در', 'کشور', 'شناسایی', 'شد', 'که', 'دو', 'هزار', 'و', 'نفر', 'از', 'نها', 'بستری', 'شدند']):40.854081145528575\n",
      "(['میزان', 'ثروت', 'تا', 'پایان', 'وریل']):59.62068029147115\n",
      "(['دلار', 'مبادله', 'شد']):28.457663905905967\n",
      "(['درصد', 'رشد', 'به']):37.482249209968224\n",
      "(['تعداد', 'مبتلایان', 'به', 'بیماری', 'کووید', 'در', 'سراسر', 'جهان', 'به', 'بیش', 'از', 'میلیون', 'و', 'هزار', 'نفر', 'رسید', 'و', 'شمار', 'مرگهای', 'ناشی', 'از', 'این', 'بیماری', 'همهگیر', 'بیش', 'از', 'هزار', 'نفر', 'ثبت', 'شد']):40.38909104702429\n",
      "(['تنها', 'چشم', 'به', 'در', 'می', 'دوختم', 'تا', 'مادرم', 'از', 'سر', 'کار', 'بیاید']):81.67494473669144\n",
      "(['به', 'گزارش', 'همشهرینلاین', 'دکتر', 'سیماسادات', 'لاری', 'سخنگوی', 'وزارت', 'بهداشت', 'گفت', 'از', 'دیروز', 'تا', 'امروز', 'ذر', 'و', 'بر', 'اساس', 'معیارهای', 'قطعی', 'تشخیصی', 'هزار', 'و', 'بیمار', 'جدید', 'مبتلا', 'به', 'در', 'کشور', 'شناسایی', 'شد', 'که', 'یک', 'هزار', 'و', 'نفر', 'از', 'نها', 'بستری', 'شدند']):41.53402573621541\n",
      "(['برای', 'انتخابات', 'مطرح', 'می', 'شود']):27.811554208320235\n",
      "(['شاخص', 'کل', 'با', 'معیار', 'هم', 'وزن', 'نیز', 'واحد', 'کاهش', 'یافت', 'و', 'رقم', 'هزار', 'و', 'واحد', 'را', 'ثبت', 'کرد']):53.77169037441464\n",
      "(['ن', 'را', 'پیدا', 'کنید']):36.50264396408925\n",
      "(['درصدی', 'را', 'تجربه', 'کرده_است']):34.11840816383002\n",
      "(['با', 'تداوم', 'همه', 'گیری', 'ویروس', 'کرونا', 'شمار', 'مبتلایان', 'به', 'ن', 'از', 'مرز', 'میلیون', 'و', 'هزار', 'عبور', 'کرده_است']):56.11849582625759\n",
      "(['درصد', 'برورد', 'شده_است']):31.82078359463042\n",
      "(['من', 'در', 'منزل', 'کارهای', 'خانه', 'را', 'انجام', 'می', 'دادم', 'و', 'مادرم', 'سر', 'کار', 'می', 'رفت']):63.947324690663805\n",
      "(['در', 'شبانه', 'روز', 'گذشته', 'نیز', 'تن', 'جان', 'خود', 'را', 'از', 'دست', 'دادند', 'که', 'با', 'این', 'حساب', 'تعداد', 'کلی', 'تلفات', 'به', 'تن', 'می', 'رسد']):41.714778521634614\n",
      "(['این', 'موضوع', 'سوژه', 'کارتونی', 'از', 'در', 'سایت', 'کگل', 'شد']):39.0374929375541\n",
      "(['جهانپور', 'گفت', 'متاسفانه', 'در', 'طول', 'ساعت', 'گذشته', 'بیمار', 'کووید', 'جان', 'خود', 'را', 'از', 'دست', 'دادند', 'و', 'مجموع', 'جان', 'باختگان', 'این', 'بیماری', 'به', 'هزار', 'و', 'نفر', 'رسید']):34.95202286189898\n",
      "(['در', 'نظر', 'گرفتهایم']):33.42518169337327\n",
      "(['از', 'شبکه', 'پنج', 'پخش', 'می', 'شود']):26.723383688540466\n",
      "(['ریس', 'دانشگاه', 'علوم', 'پزشکی', 'شهرکرد', 'گفت', 'هم', 'اکنون', 'بیمار', 'مثبت', 'قطعی', 'و', 'مشکوک', 'به', 'بیماری', 'کرونا', 'در', 'مراکز', 'درمانی', 'استان', 'تحت', 'مراقبت', 'و', 'درمان', 'هستند', 'که', 'از', 'این', 'تعداد', 'نفر', 'مثبت', 'قطعی', 'و', 'مابقی', 'در', 'انتظار', 'پاسخ', 'نتایج', 'زمایشات', 'برای', 'رد', 'یا', 'تایید', 'بیماریشان', 'هستند']):42.52170475869693\n",
      "(['میلیارد', 'دلار', 'درمد', 'کسب', 'کرده_است']):41.93611675132977\n",
      "(['به', 'گزارش', 'همشهری', 'نلاین', 'در', 'معاملات', 'امروز', 'تا', 'ساعت', 'شاخص', 'کل', 'با', 'هزار', 'و', 'واحد', 'کاهش', 'رقم', 'یک', 'میلیون', 'و', 'هزار', 'واحد', 'را', 'بر', 'روی', 'نماگر', 'اصلی', 'بازار', 'به', 'ثبت', 'رساند']):45.54428113425887\n",
      "(['در', 'ادامه', 'بخشی', 'از', 'ن', 'را', 'می', 'خوانید']):35.60678586603521\n",
      "(['در', 'جلسه', 'ای', 'که', 'با', 'حضور', 'حمیدرضا', 'عظیمیان', 'مدیرعامل', 'شرکت', 'فولادمبارکه', 'اصفهان', 'و', 'اعضای', 'هیات', 'مدیره', 'باشگاه', 'فولادمبارکه', 'سپاهان', 'برگزارشد', 'محمدرضا', 'ساکت', 'به', 'عنوان', 'عضو', 'هیات', 'مدیره', 'و', 'مدیرعامل', 'باشگاه', 'فولادمبارکه', 'سپاهان', 'تعیین', 'شد']):75.4914116113316\n",
      "(['برابر', 'افزایش', 'یافت']):40.488872738243444\n",
      "(['همچنین', 'در', 'بازارهای', 'جهانی', 'خرین', 'قیمت', 'هر', 'اونس', 'طلای', 'جهانی', 'به', 'دلار', 'رسیده_است']):58.398833846978654\n",
      "(['بانک', 'مرکزی', 'اعلام', 'کرد', 'همه', 'اقشار', 'جامعه', 'و', 'نهادهای', 'ذیربط', 'می', 'توانند', 'با', 'مراجعه', 'به', 'پایگاه', 'اطلاعرسانی', 'بانک', 'مرکزی', 'از', 'اسامی', 'دریافتکنندگان', 'ارز', 'مطلع', 'شوند']):69.09866661302159\n",
      "(['گواتر', 'مزمن', 'با', 'خوردن', 'گیلاس', 'تا', 'حد', 'زیادی', 'کنترل', 'می', 'شود']):60.52004676882461\n",
      "(['همچنین', 'نفر', 'از', 'بیماران', 'مبتلا', 'به', 'کووید', 'در', 'وضعیت', 'شدید', 'این', 'بیماری', 'تحت', 'مراقبت', 'قرار', 'دارند']):31.25653485404375\n",
      "(['سخنگوی', 'وزارت', 'بهداشت', 'درمان', 'و', 'موزش', 'پزشکی', 'ایران', 'گفت', 'تاکنون', 'هزار', 'و', 'نفر', 'در', 'کشور', 'به', 'طور', 'قطعی', 'به', 'ویروس', 'کرونا', 'مبتلا', 'شده', 'و', 'با', 'فوت', 'نفر', 'در', 'ساعت', 'گذشته', 'تعداد', 'جان', 'باختگان', 'کرونا', 'در', 'ایران', 'به', 'هزار', 'و', 'نفر', 'رسیده_است']):39.12091391824899\n",
      "(['با', 'ن', 'که', 'به', 'دلیل', 'ازدواج', 'فامیلی', 'شناختی', 'از', 'اکبر', 'داشتم', 'اما', 'تصور', 'نمی', 'کردم', 'او', 'به', 'من', 'خیانت', 'کند']):75.21597165491266\n",
      "(['کیانوش', 'جهانپور', 'گفت', 'مجموع', 'بیماران', 'کووید', 'در', 'کشور', 'به', 'هزار', 'و', 'نفر', 'رسید']):35.268665514054774\n",
      "(['این', 'یعنی', 'که', 'از', 'امروز', 'تمام', 'مفاد', 'قطعنامه', 'های', 'و', 'که', 'ذیل', 'قطعنامه', 'ملغی', 'شده_بودند', 'دوباره', 'فعال', 'شدهاند']):80.47284288067236\n",
      "(['و', 'عرض', 'جغرافیایی']):51.65159031922028\n",
      "(['ایران', 'در', 'لیست', 'سیاه', 'قرار', 'گرفت']):38.16634344600192\n",
      "(['هم', 'اکنون', 'بیمار', 'مثبت', 'قطعی', 'و', 'مشکوک', 'به', 'بیماری', 'کرونا', 'در', 'مراکز', 'درمانی', 'استان', 'تحت', 'مراقبت', 'و', 'درمان', 'هستند', 'که', 'از', 'این', 'تعداد', 'نفر', 'مثبت', 'قطعی', 'و', 'مابقی', 'در', 'انتظار', 'پاسخ', 'نتایج', 'زمایشات', 'برای', 'رد', 'یا', 'تایید', 'بیماریشان', 'هستند']):43.23354215629127\n",
      "(['غلامحسین', 'اسماعیلی', 'در', 'پاسخ', 'به', 'سوالی', 'درباره', 'صدور', 'حکم', 'پرونده', 'سکه', 'ثامن', 'گفت', 'با', 'پیگیریهای', 'انجام', 'شده', 'و', 'بعد', 'از', 'اینکه', 'پرونده', 'به', 'دادگاه', 'رفت', 'جلسه', 'دادگاه', 'برگزار', 'و', 'حکم', 'صادر', 'شد', 'گرچه', 'قطعی', 'نشده_است']):80.16195003643952\n",
      "(['این', 'فرد', 'پس', 'از', 'تشکیل', 'پرونده', 'تحویل', 'مراجع', 'قضایی', 'شد']):45.30369074860238\n",
      "(['تعداد', 'مبتلایان', 'به', 'بیماری', 'کووید', 'در', 'سراسر', 'جهان', 'به', 'بیش', 'از', 'میلیون', 'و', 'هزار', 'نفر', 'رسید', 'و', 'شمار', 'مرگهای', 'ناشی', 'از', 'این', 'بیماری', 'همهگیر', 'بیش', 'از', 'هزار', 'نفر', 'ثبت', 'شد']):40.38909104702429\n",
      "(['اطمینان', 'داشته_باشید', 'که', 'ما', 'از', 'این', 'فرصت', 'استفاده', 'خواهیم_کرد']):59.12070206923111\n",
      "(['با', 'فوت', 'تن', 'دیگر', 'در', 'ساعت', 'گذشته', 'شمار', 'کلی', 'جان', 'باختگان', 'این', 'کشور', 'هم', 'به', 'تن', 'رسیده_است']):50.705952956933636\n",
      "(['نفر', 'از', 'بیماران', 'مبتلا', 'به', 'کووید', 'در', 'وضعیت', 'شدید', 'این', 'بیماری', 'تحت', 'مراقبت', 'قرار', 'دارند']):32.26385539392989\n",
      "(['درصد', 'رشد', 'داشته_است']):26.707107427810115\n",
      "(['با', 'این', 'وجود', 'این', 'علام', 'اغلب', 'بلافاصله', 'پس', 'از', 'توقف', 'حرکت', 'دست', 'باز', 'می', 'گردند']):64.63782527276626\n",
      "(['درصد', 'افزایش', 'داشته_است']):25.674902805341215\n",
      "(['با', 'ثبت', 'مورد', 'ابتلای', 'دیگر', 'به', 'بیماری', 'کووید', 'شمار', 'کلی', 'مبتلایان', 'به', 'تن', 'افزایش', 'یافته_است']):49.73857595882438\n",
      "(['درصد', 'افزایش', 'داشته_است']):25.674902805341215\n",
      "(['با', 'ثبت', 'موارد', 'جدید', 'ابتلا', 'مار', 'کل', 'مبتلایان', 'به', 'کرونا', 'در', 'عراق', 'به', 'هزار', 'و', 'نفر', 'رسیده_است']):42.64820861605106\n",
      "(['در', 'عین', 'حال', 'قیمت', 'خرید', 'هر', 'دلار', 'نیز', 'هزار', 'و', 'تومان', 'است']):37.901533384343644\n",
      "(['با', 'توجه', 'به', 'شیوع', 'گسترده', 'ویروس', 'کرونا', 'در', 'سطح', 'جهان', 'سوالی', 'که', 'مطرح', 'می', 'شود', 'این', 'است', 'که', 'با', 'شروع', 'فصل', 'پاییز', 'و', 'زمستان', 'یا', 'ممکن', 'است', 'فردی', 'همزمان', 'به', 'کووید', 'و', 'نفلوانزا', 'مبتلا', 'شود', 'یا', 'خیر']):58.20058968600575\n",
      "(['در', 'بین', 'کشورهای', 'مختلف', 'بالاترین', 'تلفات', 'مربوط', 'به', 'مریکا', 'با', 'هزار', 'و', 'نفر', 'برزیل', 'با', 'هزار', 'و', 'نفر', 'هند', 'با', 'هزار', 'و', 'نفر', 'مکزیک', 'با', 'هزار', 'و', 'نفر', 'و', 'انگلیس', 'با', 'هزار', 'و', 'نفر', 'بوده_است']):59.253151719134436\n",
      "(['تعداد', 'مبتلایان', 'به', 'بیماری', 'کووید', 'در', 'سراسر', 'جهان', 'به', 'بیش', 'از', 'میلیون', 'و', 'هزار', 'نفر', 'رسید', 'و', 'شمار', 'مرگهای', 'ناشی', 'از', 'این', 'بیماری', 'همهگیر', 'بیش', 'از', 'هزار', 'نفر', 'ثبت', 'شد']):40.38909104702429\n",
      "(['مطالعه', 'محققان', 'نشان', 'می', 'دهد']):32.385102035749156\n",
      "(['شاخص', 'کل', 'با', 'معیار', 'هموزن', 'نیز', 'با', 'واحد', 'منفی', 'به', 'رقم', 'هزار', 'و', 'واحد', 'رسید']):49.64811538418405\n",
      "(['به', 'گزارش', 'همشهری', 'نلاین', 'در', 'معاملات', 'امروز', 'تا', 'ساعت', 'شاخص', 'کل', 'با', 'هزار', 'و', 'واحد', 'کاهش', 'رقم', 'یک', 'میلیون', 'و', 'هزار', 'واحد', 'را', 'بر', 'روی', 'نماگر', 'اصلی', 'بازار', 'به', 'ثبت', 'رساند']):45.54428113425887\n",
      "(['طی', 'ساعت', 'گذشته', 'علاوه', 'بر', 'موارد', 'سرپایی', 'تست', 'مراجعه', 'کننده', 'بیمارستانی', 'با', 'علایم', 'بالینی', 'مشکوک', 'به', 'بیماری', 'کووید', 'که', 'در', 'مراکز', 'درمانی', 'بستری', 'شده_بودند', 'مثبت', 'قطعی', 'اعلام', 'شد']):51.290270366174546\n",
      "(['در', 'شبانه', 'روز', 'گذشته', 'نیز', 'تن', 'جان', 'خود', 'را', 'از', 'دست', 'دادند', 'که', 'با', 'این', 'حساب', 'تعداد', 'کلی', 'تلفات', 'به', 'تن', 'می', 'رسد']):41.714778521634614\n",
      "(['به', 'گفته', 'وی', 'تا', 'کنون', 'میلیون', 'و', 'هزار', 'و', 'زمایش', 'تشخیص', 'کووید', 'در', 'کشور', 'انجام', 'شده_است']):30.961844426829458\n",
      "(['در', 'بازار', 'طلا', 'نیز', 'هر', 'گرم', 'طلای', 'عیار', 'به', 'مبلغ', 'یک', 'میلیون', 'و', 'هزار', 'تومان', 'و', 'هر', 'مثقال', 'طلا', 'به', 'بهای', 'میلیون', 'و', 'هزار', 'تومان', 'فروخته_شد']):50.538504683823696\n",
      "(['وی', 'اظهار', 'کرد', 'در', 'ساعت', 'گذشته', 'تعداد', 'مورد', 'مثبت', 'جدید', 'بیماری', 'کرونا', 'در', 'استان', 'شناسایی', 'شده_است']):39.290216173197884\n",
      "(['هرچند', 'که', 'این', 'اقدام', 'بدون', 'اخذ', 'مجوز', 'نیز', 'صورت', 'می', 'گیرد', 'ولی', 'دریافت', 'مجوز', 'به', 'نوعی', 'مشروعیت', 'حاکمیتی', 'به', 'ن', 'گروه', 'می', 'بخشد']):87.17701366892857\n",
      "(['وی', 'افزود', 'به', 'این', 'ترتیب', 'مجموع', 'بیماران', 'کووید', 'در', 'کشور', 'به', 'نفر', 'رسید']):31.4660873112423\n",
      "(['وی', 'گفت', 'در', 'طول', 'ساعت', 'گذشته', 'بیمار', 'جان', 'خود', 'را', 'از', 'دست', 'دادند', 'و', 'مجموع', 'جانباختگان', 'این', 'بیماری', 'به', 'هزار', 'و', 'نفر', 'رسید']):31.159476029089895\n",
      "(['باغ', 'بودن', 'یا', 'نبودن', 'پلاک', 'ثبتی', 'از', 'سوی', 'اعضای', 'شورای', 'شهر', 'تهران', 'مورد', 'بررسی', 'قرار', 'گرفت', 'و', 'اعضا', 'با', 'رای', 'موافق', 'به', 'باغ', 'بودن', 'ن', 'رای', 'دادند']):69.84384920623725\n",
      "(['در', 'خرین', 'مار', 'نیز', 'با', 'ثبت', 'مورد', 'ابتلای', 'دیگر', 'به', 'بیماری', 'کووید', 'شمار', 'کلی', 'مبتلایان', 'به', 'ن', 'به', 'تن', 'رسیده_است']):55.515536178054646\n",
      "(['سخنگوی', 'ستاد', 'مقابله', 'با', 'کرونا', 'وزارت', 'بهداشت', 'افزود', 'تاکنون', 'هزار', 'و', 'زمایش', 'تشخیص', 'کووید', 'در', 'کشور', 'انجام', 'شده_است']):36.69816447209403\n",
      "(['هر', 'اونس', 'طلا', 'در', 'بازارهای', 'جهانی', 'دلار', 'و', 'سنت', 'و', 'هر', 'گرم', 'طلای', 'عیار', 'میلیون', 'و', 'هزار', 'و', 'تومان', 'است']):43.522389175937256\n",
      "(['سخنگوی', 'وزارت', 'بهداشت', 'گفت', 'تا', 'کنون', 'میلیون', 'و', 'هزار', 'و', 'زمایش', 'تشخیص', 'کووید', 'در', 'کشور', 'انجام', 'شده_است']):32.321402236126005\n",
      "(['در', 'ساعت', 'گذشته', 'نیز', 'نفر', 'دیگر', 'جان', 'خود', 'را', 'از', 'دست', 'دادند', 'که', 'با', 'این', 'حساب', 'تعداد', 'فوتی', 'ها', 'در', 'مجموع', 'به', 'تن', 'می', 'رسد']):45.719222851447846\n",
      "(['از', 'بین', 'مبتلایان', 'جدید', 'مورد', 'بستری', 'و', 'مورد', 'سرپایی', 'و', 'از', 'افراد', 'در', 'تماس', 'با', 'مبتلایان', 'بودند', 'که', 'شناسایی', 'شدند']):61.31497452501436\n",
      "(['همه', 'این', 'همافزاییها', 'منجر', 'به', 'تولید', 'واکسن', 'در', 'ایران', 'می', 'شود']):49.51806334724536\n",
      "(['در', 'ادامه', 'جلسه', 'تعدادی', 'از', 'پیشنهادهای', 'دستگاه', 'های', 'اجرایی', 'مورد', 'بررسی', 'و', 'تصویب', 'هیات', 'وزیران', 'قرار', 'گرفت']):56.21834434408609\n",
      "(['وی', 'افزود', 'متاسفانه', 'در', 'طول', 'ساعت', 'گذشته', 'نفر', 'از', 'مبتلایان', 'جدید', 'کووید', 'جان', 'خود', 'را', 'از', 'دست', 'دادند', 'و', 'مجموع', 'جان', 'باختگان', 'این', 'بیماری', 'در', 'کشور', 'به', 'مورد', 'رسید']):38.50675385765431\n"
     ]
    }
   ],
   "source": [
    "for i in values:\n",
    "  print(\"({0}):{1}\".format(val_corpus[i], perplexity[i]))"
   ]
  },
  {
   "cell_type": "code",
   "execution_count": null,
   "metadata": {
    "colab": {
     "base_uri": "https://localhost:8080/"
    },
    "id": "mU8-LvXO--kc",
    "outputId": "f95bae65-0ca3-4a99-ed98-707839721b14"
   },
   "outputs": [
    {
     "name": "stdout",
     "output_type": "stream",
     "text": [
      "Collecting tiktoken\n",
      "  Downloading tiktoken-0.8.0-cp310-cp310-manylinux_2_17_x86_64.manylinux2014_x86_64.whl.metadata (6.6 kB)\n",
      "Requirement already satisfied: regex>=2022.1.18 in /usr/local/lib/python3.10/dist-packages (from tiktoken) (2024.9.11)\n",
      "Requirement already satisfied: requests>=2.26.0 in /usr/local/lib/python3.10/dist-packages (from tiktoken) (2.32.3)\n",
      "Requirement already satisfied: charset-normalizer<4,>=2 in /usr/local/lib/python3.10/dist-packages (from requests>=2.26.0->tiktoken) (3.4.0)\n",
      "Requirement already satisfied: idna<4,>=2.5 in /usr/local/lib/python3.10/dist-packages (from requests>=2.26.0->tiktoken) (3.10)\n",
      "Requirement already satisfied: urllib3<3,>=1.21.1 in /usr/local/lib/python3.10/dist-packages (from requests>=2.26.0->tiktoken) (2.2.3)\n",
      "Requirement already satisfied: certifi>=2017.4.17 in /usr/local/lib/python3.10/dist-packages (from requests>=2.26.0->tiktoken) (2024.8.30)\n",
      "Downloading tiktoken-0.8.0-cp310-cp310-manylinux_2_17_x86_64.manylinux2014_x86_64.whl (1.2 MB)\n",
      "\u001b[2K   \u001b[90m━━━━━━━━━━━━━━━━━━━━━━━━━━━━━━━━━━━━━━━━\u001b[0m \u001b[32m1.2/1.2 MB\u001b[0m \u001b[31m13.7 MB/s\u001b[0m eta \u001b[36m0:00:00\u001b[0m\n",
      "\u001b[?25hInstalling collected packages: tiktoken\n",
      "Successfully installed tiktoken-0.8.0\n"
     ]
    }
   ],
   "source": [
    "!pip install tiktoken"
   ]
  },
  {
   "cell_type": "code",
   "execution_count": null,
   "metadata": {
    "id": "liTex2wKK2RN"
   },
   "outputs": [],
   "source": [
    "import tiktoken"
   ]
  },
  {
   "cell_type": "code",
   "execution_count": null,
   "metadata": {
    "id": "QtkULqdFK97B"
   },
   "outputs": [],
   "source": [
    "tokenizer = tiktoken.get_encoding(\"gpt2\")"
   ]
  },
  {
   "cell_type": "code",
   "execution_count": null,
   "metadata": {
    "colab": {
     "base_uri": "https://localhost:8080/"
    },
    "id": "TA1HRqhzLA4d",
    "outputId": "9a65e024-86dd-4f1c-e8ac-272c231ffa26"
   },
   "outputs": [
    {
     "name": "stdout",
     "output_type": "stream",
     "text": [
      "Total number of character: 12853517\n",
      "1\t۰۰۰ پرس غذا برگزار خواهد گردید که با توجه به شرایط کرونایی کشور همه این غذاها در سطح شهر و مناطق \n"
     ]
    }
   ],
   "source": [
    "with open(persian_text_path, \"r\", encoding=\"utf-8\") as f:\n",
    "    raw_text = f.read()\n",
    "\n",
    "print(\"Total number of character:\", len(raw_text))\n",
    "print(raw_text[:99])"
   ]
  },
  {
   "cell_type": "code",
   "execution_count": null,
   "metadata": {
    "id": "vR3mcn0tLKkb"
   },
   "outputs": [],
   "source": [
    "with open(persian_text_path, \"r\", encoding=\"utf-8\") as f:\n",
    "    raw_text = f.read()\n",
    "\n",
    "# Remove newlines and duplicated whitespaces\n",
    "raw_text = raw_text.replace(\"\\n\", \" \")\n",
    "raw_text = raw_text.replace(\"  \", \" \")\n",
    "enc_text = tokenizer.encode(raw_text)"
   ]
  },
  {
   "cell_type": "code",
   "execution_count": null,
   "metadata": {
    "colab": {
     "base_uri": "https://localhost:8080/"
    },
    "id": "3e2CIyQSLeBR",
    "outputId": "d5463a45-1334-4ed4-93ad-bc2b385f49c4"
   },
   "outputs": [
    {
     "name": "stdout",
     "output_type": "stream",
     "text": [
      "1\t۰۰۰ پرس غذا برگزار خواهد گردید که با توجه به شرایط کرونایی کشور همه این غذاها در سطح شهر و مناطق م\n",
      "\n",
      "1\t۰۰۰ پرس غذا برگزار خواهد گردید که با تو\n",
      "\n",
      "[16, 197, 151, 108, 151, 108, 151, 108, 18923, 122, 26897, 45692, 17550, 118, 148, 108, 12919, 17550, 101, 26897, 150, 107, 148, 110, 12919, 26897, 17550, 106, 30335, 12919, 29519, 38843, 220, 150, 107, 26897, 38843, 151, 234, 38843, 220, 150, 102, 29519, 17550, 101, 12919, 17550, 103, 30335]\n",
      "\n",
      "['1', '\\t', '�', '�', '�', '�', '�', '�', ' �', '�', 'ر', 'س', ' �', '�', '�', '�', 'ا', ' �', '�', 'ر', '�', '�', '�', '�', 'ا', 'ر', ' �', '�', 'و', 'ا', 'ه', 'د', ' ', '�', '�', 'ر', 'د', '�', '�', 'د', ' ', '�', '�', 'ه', ' �', '�', 'ا', ' �', '�', 'و']\n"
     ]
    }
   ],
   "source": [
    "print(raw_text[0:100])\n",
    "print()\n",
    "print(tokenizer.decode(enc_text[0:50]))\n",
    "print()\n",
    "tokens = [tokenizer.decode([tok]) for tok in enc_text[0:50]]\n",
    "print(enc_text[0:50])\n",
    "print()\n",
    "print(tokens)"
   ]
  },
  {
   "cell_type": "code",
   "execution_count": null,
   "metadata": {
    "colab": {
     "base_uri": "https://localhost:8080/"
    },
    "id": "_xhjpehOLmFe",
    "outputId": "201eafb4-3fcc-46e3-d67a-98523445c204"
   },
   "outputs": [
    {
     "name": "stdout",
     "output_type": "stream",
     "text": [
      "[['ارتفاع', 'پست', 'ابراهیم', 'حاتمیکیا', 'هم', 'پسزمینه', 'جنگ', 'دارد', 'و', 'پیامدهای', 'جنگ', 'را', 'بر', 'زندگی', 'مردم', 'خوزستان', 'روایت', 'می', 'کند', 'و', 'سرانجام', 'بمب', 'یک', 'عاشقانه', 'پیمان', 'معادی', 'که', 'داستان', 'ن', 'در', 'دوران', 'موشکباران', 'شهرها', 'روایت', 'می', 'شود']] --> ['وی', 'ادامه', 'داد', 'این', 'مسیر', 'به', 'علت', 'پایین', 'مدن', 'چند', 'قطعه', 'سنگ', 'بزرگ', 'بر', 'اثر', 'برخورد', 'صاعقه', 'با', 'کوه', 'مسدود', 'شده_است', 'و', 'در', 'سایه', 'تلاش', 'راهدارای', 'و', 'جابهجایی', 'سنگهای', 'کوچک', 'این', 'راه', 'روستایی', 'به', 'صورت', 'موقت', 'و', 'کنارگذر', 'بازگشایی', 'شده_است']\n",
      "[['ارتفاع', 'پست', 'ابراهیم', 'حاتمیکیا', 'هم', 'پسزمینه', 'جنگ', 'دارد', 'و', 'پیامدهای', 'جنگ', 'را', 'بر', 'زندگی', 'مردم', 'خوزستان', 'روایت', 'می', 'کند', 'و', 'سرانجام', 'بمب', 'یک', 'عاشقانه', 'پیمان', 'معادی', 'که', 'داستان', 'ن', 'در', 'دوران', 'موشکباران', 'شهرها', 'روایت', 'می', 'شود'], ['وی', 'ادامه', 'داد', 'این', 'مسیر', 'به', 'علت', 'پایین', 'مدن', 'چند', 'قطعه', 'سنگ', 'بزرگ', 'بر', 'اثر', 'برخورد', 'صاعقه', 'با', 'کوه', 'مسدود', 'شده_است', 'و', 'در', 'سایه', 'تلاش', 'راهدارای', 'و', 'جابهجایی', 'سنگهای', 'کوچک', 'این', 'راه', 'روستایی', 'به', 'صورت', 'موقت', 'و', 'کنارگذر', 'بازگشایی', 'شده_است']] --> ['اساسا', 'حمایت', 'از', 'بخش', 'کشاورزی', 'و', 'غذا', 'به', 'لحاظ', 'مبانی', 'توریک', 'اجتناب', 'ناپذیر', 'است']\n",
      "[['ارتفاع', 'پست', 'ابراهیم', 'حاتمیکیا', 'هم', 'پسزمینه', 'جنگ', 'دارد', 'و', 'پیامدهای', 'جنگ', 'را', 'بر', 'زندگی', 'مردم', 'خوزستان', 'روایت', 'می', 'کند', 'و', 'سرانجام', 'بمب', 'یک', 'عاشقانه', 'پیمان', 'معادی', 'که', 'داستان', 'ن', 'در', 'دوران', 'موشکباران', 'شهرها', 'روایت', 'می', 'شود'], ['وی', 'ادامه', 'داد', 'این', 'مسیر', 'به', 'علت', 'پایین', 'مدن', 'چند', 'قطعه', 'سنگ', 'بزرگ', 'بر', 'اثر', 'برخورد', 'صاعقه', 'با', 'کوه', 'مسدود', 'شده_است', 'و', 'در', 'سایه', 'تلاش', 'راهدارای', 'و', 'جابهجایی', 'سنگهای', 'کوچک', 'این', 'راه', 'روستایی', 'به', 'صورت', 'موقت', 'و', 'کنارگذر', 'بازگشایی', 'شده_است'], ['اساسا', 'حمایت', 'از', 'بخش', 'کشاورزی', 'و', 'غذا', 'به', 'لحاظ', 'مبانی', 'توریک', 'اجتناب', 'ناپذیر', 'است']] --> ['دوربین', 'را', 'وارد', 'فضای', 'خانه', 'و', 'حتی', 'اتاق', 'خواب', 'خود', 'می', 'کنیم', 'یا', 'با', 'تصویر', 'شخصی', 'که', 'صبح', 'در', 'تخت', 'خود', 'از', 'خواب', 'بیدار', 'شده', 'مواجه', 'می', 'شویم', 'اگر', 'رادیو', 'تلویزیون', 'را', 'فضای', 'رسانهای', 'سابق', 'بدانیم', 'ما', 'مخاطبان', 'منفعل', 'خواهیم_بود']\n",
      "[['ارتفاع', 'پست', 'ابراهیم', 'حاتمیکیا', 'هم', 'پسزمینه', 'جنگ', 'دارد', 'و', 'پیامدهای', 'جنگ', 'را', 'بر', 'زندگی', 'مردم', 'خوزستان', 'روایت', 'می', 'کند', 'و', 'سرانجام', 'بمب', 'یک', 'عاشقانه', 'پیمان', 'معادی', 'که', 'داستان', 'ن', 'در', 'دوران', 'موشکباران', 'شهرها', 'روایت', 'می', 'شود'], ['وی', 'ادامه', 'داد', 'این', 'مسیر', 'به', 'علت', 'پایین', 'مدن', 'چند', 'قطعه', 'سنگ', 'بزرگ', 'بر', 'اثر', 'برخورد', 'صاعقه', 'با', 'کوه', 'مسدود', 'شده_است', 'و', 'در', 'سایه', 'تلاش', 'راهدارای', 'و', 'جابهجایی', 'سنگهای', 'کوچک', 'این', 'راه', 'روستایی', 'به', 'صورت', 'موقت', 'و', 'کنارگذر', 'بازگشایی', 'شده_است'], ['اساسا', 'حمایت', 'از', 'بخش', 'کشاورزی', 'و', 'غذا', 'به', 'لحاظ', 'مبانی', 'توریک', 'اجتناب', 'ناپذیر', 'است'], ['دوربین', 'را', 'وارد', 'فضای', 'خانه', 'و', 'حتی', 'اتاق', 'خواب', 'خود', 'می', 'کنیم', 'یا', 'با', 'تصویر', 'شخصی', 'که', 'صبح', 'در', 'تخت', 'خود', 'از', 'خواب', 'بیدار', 'شده', 'مواجه', 'می', 'شویم', 'اگر', 'رادیو', 'تلویزیون', 'را', 'فضای', 'رسانهای', 'سابق', 'بدانیم', 'ما', 'مخاطبان', 'منفعل', 'خواهیم_بود']] --> ['حتی', 'نویسندگان', 'مذهبی', 'نسل', 'قبل', 'همچون', 'محمود', 'حکیمی', 'مصطفی', 'زمانی', 'میرابوالفتح', 'دعوتی', 'و', 'غلامرضا', 'امامی', 'هم', 'از', 'دایره', 'مدیریت', 'ادبیات', 'کودک', 'بیرون', 'ماندند']\n"
     ]
    }
   ],
   "source": [
    "enc_sample = train_corpus[7:99]\n",
    "\n",
    "context_length = 4\n",
    "for i in range(1, context_length+1):\n",
    "    context = enc_sample[:i]\n",
    "    target = enc_sample[i]\n",
    "\n",
    "    print(context, \"-->\", target)\n",
    "    # print(tokenizer.decode(context), \"-->\",tokenizer.decode([target]))"
   ]
  },
  {
   "cell_type": "code",
   "execution_count": null,
   "metadata": {
    "id": "CU-87Z0uMCDW"
   },
   "outputs": [],
   "source": [
    "import torch\n",
    "import torch.nn.functional as F\n",
    "from torch.utils.data import Dataset, DataLoader\n",
    "\n",
    "\n",
    "class GPTDataset(Dataset):\n",
    "    def __init__(self, txt, tokenizer, context_length):\n",
    "        self.input_ids = []\n",
    "        self.target_ids = []\n",
    "\n",
    "        # Tokenize the entire text\n",
    "        token_ids = tokenizer.encode(txt, allowed_special={\"<|endoftext|>\"})\n",
    "\n",
    "        # Use a sliding window to chunk the book into overlapping sequences of max_length\n",
    "        for i in range(0, len(token_ids) - context_length):\n",
    "            input_sequence = token_ids[i:i + context_length]\n",
    "\n",
    "            #shift to the right\n",
    "            target_sequence = token_ids[i + 1: i + context_length + 1]\n",
    "\n",
    "            # input and output are represented as tensors\n",
    "            self.input_ids.append(torch.tensor(input_sequence))\n",
    "            self.target_ids.append(torch.tensor(target_sequence))\n",
    "\n",
    "    def __len__(self):\n",
    "        return len(self.input_ids)\n",
    "\n",
    "    def __getitem__(self, idx):\n",
    "        return self.input_ids[idx], self.target_ids[idx]"
   ]
  },
  {
   "cell_type": "code",
   "execution_count": null,
   "metadata": {
    "id": "A2jMdaBuOHPJ"
   },
   "outputs": [],
   "source": [
    "def create_dataloader(txt, batch_size=8, context_length=4, shuffle=True, drop_last=True,\n",
    "                         num_workers=0):\n",
    "\n",
    "    # Initialize the tokenizer\n",
    "    tokenizer = tiktoken.get_encoding(\"gpt2\")\n",
    "\n",
    "    # Create dataset\n",
    "    dataset = GPTDataset(txt, tokenizer, context_length)\n",
    "\n",
    "    # Create dataloader\n",
    "    dataloader = DataLoader(\n",
    "        dataset,\n",
    "        batch_size=batch_size,\n",
    "        shuffle=shuffle,\n",
    "        drop_last=drop_last,\n",
    "        num_workers=num_workers\n",
    "    )\n",
    "\n",
    "    return dataloader"
   ]
  },
  {
   "cell_type": "code",
   "execution_count": null,
   "metadata": {
    "id": "WfmaPFKmOLcU"
   },
   "outputs": [],
   "source": [
    "# Set a manual seed for reproducibility of shuffling and weight initialization\n",
    "torch.manual_seed(0)\n",
    "dataloader = create_dataloader(raw_text, batch_size=8, context_length=4, shuffle=False)"
   ]
  },
  {
   "cell_type": "code",
   "execution_count": null,
   "metadata": {
    "id": "M6W8wr1BOf_H"
   },
   "outputs": [],
   "source": [
    "print(len(dataloader))\n",
    "data_iter = iter(dataloader)\n",
    "\n",
    "first_batch = next(data_iter)\n",
    "print(\"1:\", first_batch)"
   ]
  }
 ],
 "metadata": {
  "colab": {
   "provenance": []
  },
  "kernelspec": {
   "display_name": "Python 3 (ipykernel)",
   "language": "python",
   "name": "python3"
  },
  "language_info": {
   "codemirror_mode": {
    "name": "ipython",
    "version": 3
   },
   "file_extension": ".py",
   "mimetype": "text/x-python",
   "name": "python",
   "nbconvert_exporter": "python",
   "pygments_lexer": "ipython3",
   "version": "3.9.20"
  }
 },
 "nbformat": 4,
 "nbformat_minor": 4
}
